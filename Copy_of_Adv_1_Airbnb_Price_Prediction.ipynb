{
  "cells": [
    {
      "cell_type": "markdown",
      "metadata": {
        "id": "cmvY9QfKB7Iw"
      },
      "source": [
        "Importing all necessary modules"
      ],
      "id": "cmvY9QfKB7Iw"
    },
    {
      "cell_type": "code",
      "execution_count": null,
      "metadata": {
        "id": "51ba7f06"
      },
      "outputs": [],
      "source": [
        "import numpy as np\n",
        "import pandas as pd"
      ],
      "id": "51ba7f06"
    },
    {
      "cell_type": "code",
      "execution_count": null,
      "metadata": {
        "id": "8KrqkwzZFX_p"
      },
      "outputs": [],
      "source": [
        "from sklearn.model_selection import train_test_split\n",
        "from sklearn.pipeline import make_pipeline\n",
        "from sklearn.preprocessing import StandardScaler\n",
        "from matplotlib import pyplot as plt \n",
        "import seaborn as sns"
      ],
      "id": "8KrqkwzZFX_p"
    },
    {
      "cell_type": "code",
      "execution_count": null,
      "metadata": {
        "id": "e4ede2d7",
        "scrolled": false
      },
      "outputs": [],
      "source": [
        "from sklearn.metrics import mean_squared_error as mse "
      ],
      "id": "e4ede2d7"
    },
    {
      "cell_type": "code",
      "execution_count": null,
      "metadata": {
        "id": "0mLOePjM7O_O"
      },
      "outputs": [],
      "source": [
        "from sklearn.linear_model import LinearRegression as lr\n",
        "from sklearn.linear_model import LogisticRegression as lor\n"
      ],
      "id": "0mLOePjM7O_O"
    },
    {
      "cell_type": "code",
      "execution_count": null,
      "metadata": {
        "colab": {
          "base_uri": "https://localhost:8080/",
          "height": 73
        },
        "id": "YW3UE_tdyFx3",
        "outputId": "5289179b-d20e-4e44-97b4-276187a55c78"
      },
      "outputs": [
        {
          "output_type": "display_data",
          "data": {
            "text/plain": [
              "<IPython.core.display.HTML object>"
            ],
            "text/html": [
              "\n",
              "     <input type=\"file\" id=\"files-92cc2b27-601e-44a6-b83c-daf8eb81f2e9\" name=\"files[]\" multiple disabled\n",
              "        style=\"border:none\" />\n",
              "     <output id=\"result-92cc2b27-601e-44a6-b83c-daf8eb81f2e9\">\n",
              "      Upload widget is only available when the cell has been executed in the\n",
              "      current browser session. Please rerun this cell to enable.\n",
              "      </output>\n",
              "      <script>// Copyright 2017 Google LLC\n",
              "//\n",
              "// Licensed under the Apache License, Version 2.0 (the \"License\");\n",
              "// you may not use this file except in compliance with the License.\n",
              "// You may obtain a copy of the License at\n",
              "//\n",
              "//      http://www.apache.org/licenses/LICENSE-2.0\n",
              "//\n",
              "// Unless required by applicable law or agreed to in writing, software\n",
              "// distributed under the License is distributed on an \"AS IS\" BASIS,\n",
              "// WITHOUT WARRANTIES OR CONDITIONS OF ANY KIND, either express or implied.\n",
              "// See the License for the specific language governing permissions and\n",
              "// limitations under the License.\n",
              "\n",
              "/**\n",
              " * @fileoverview Helpers for google.colab Python module.\n",
              " */\n",
              "(function(scope) {\n",
              "function span(text, styleAttributes = {}) {\n",
              "  const element = document.createElement('span');\n",
              "  element.textContent = text;\n",
              "  for (const key of Object.keys(styleAttributes)) {\n",
              "    element.style[key] = styleAttributes[key];\n",
              "  }\n",
              "  return element;\n",
              "}\n",
              "\n",
              "// Max number of bytes which will be uploaded at a time.\n",
              "const MAX_PAYLOAD_SIZE = 100 * 1024;\n",
              "\n",
              "function _uploadFiles(inputId, outputId) {\n",
              "  const steps = uploadFilesStep(inputId, outputId);\n",
              "  const outputElement = document.getElementById(outputId);\n",
              "  // Cache steps on the outputElement to make it available for the next call\n",
              "  // to uploadFilesContinue from Python.\n",
              "  outputElement.steps = steps;\n",
              "\n",
              "  return _uploadFilesContinue(outputId);\n",
              "}\n",
              "\n",
              "// This is roughly an async generator (not supported in the browser yet),\n",
              "// where there are multiple asynchronous steps and the Python side is going\n",
              "// to poll for completion of each step.\n",
              "// This uses a Promise to block the python side on completion of each step,\n",
              "// then passes the result of the previous step as the input to the next step.\n",
              "function _uploadFilesContinue(outputId) {\n",
              "  const outputElement = document.getElementById(outputId);\n",
              "  const steps = outputElement.steps;\n",
              "\n",
              "  const next = steps.next(outputElement.lastPromiseValue);\n",
              "  return Promise.resolve(next.value.promise).then((value) => {\n",
              "    // Cache the last promise value to make it available to the next\n",
              "    // step of the generator.\n",
              "    outputElement.lastPromiseValue = value;\n",
              "    return next.value.response;\n",
              "  });\n",
              "}\n",
              "\n",
              "/**\n",
              " * Generator function which is called between each async step of the upload\n",
              " * process.\n",
              " * @param {string} inputId Element ID of the input file picker element.\n",
              " * @param {string} outputId Element ID of the output display.\n",
              " * @return {!Iterable<!Object>} Iterable of next steps.\n",
              " */\n",
              "function* uploadFilesStep(inputId, outputId) {\n",
              "  const inputElement = document.getElementById(inputId);\n",
              "  inputElement.disabled = false;\n",
              "\n",
              "  const outputElement = document.getElementById(outputId);\n",
              "  outputElement.innerHTML = '';\n",
              "\n",
              "  const pickedPromise = new Promise((resolve) => {\n",
              "    inputElement.addEventListener('change', (e) => {\n",
              "      resolve(e.target.files);\n",
              "    });\n",
              "  });\n",
              "\n",
              "  const cancel = document.createElement('button');\n",
              "  inputElement.parentElement.appendChild(cancel);\n",
              "  cancel.textContent = 'Cancel upload';\n",
              "  const cancelPromise = new Promise((resolve) => {\n",
              "    cancel.onclick = () => {\n",
              "      resolve(null);\n",
              "    };\n",
              "  });\n",
              "\n",
              "  // Wait for the user to pick the files.\n",
              "  const files = yield {\n",
              "    promise: Promise.race([pickedPromise, cancelPromise]),\n",
              "    response: {\n",
              "      action: 'starting',\n",
              "    }\n",
              "  };\n",
              "\n",
              "  cancel.remove();\n",
              "\n",
              "  // Disable the input element since further picks are not allowed.\n",
              "  inputElement.disabled = true;\n",
              "\n",
              "  if (!files) {\n",
              "    return {\n",
              "      response: {\n",
              "        action: 'complete',\n",
              "      }\n",
              "    };\n",
              "  }\n",
              "\n",
              "  for (const file of files) {\n",
              "    const li = document.createElement('li');\n",
              "    li.append(span(file.name, {fontWeight: 'bold'}));\n",
              "    li.append(span(\n",
              "        `(${file.type || 'n/a'}) - ${file.size} bytes, ` +\n",
              "        `last modified: ${\n",
              "            file.lastModifiedDate ? file.lastModifiedDate.toLocaleDateString() :\n",
              "                                    'n/a'} - `));\n",
              "    const percent = span('0% done');\n",
              "    li.appendChild(percent);\n",
              "\n",
              "    outputElement.appendChild(li);\n",
              "\n",
              "    const fileDataPromise = new Promise((resolve) => {\n",
              "      const reader = new FileReader();\n",
              "      reader.onload = (e) => {\n",
              "        resolve(e.target.result);\n",
              "      };\n",
              "      reader.readAsArrayBuffer(file);\n",
              "    });\n",
              "    // Wait for the data to be ready.\n",
              "    let fileData = yield {\n",
              "      promise: fileDataPromise,\n",
              "      response: {\n",
              "        action: 'continue',\n",
              "      }\n",
              "    };\n",
              "\n",
              "    // Use a chunked sending to avoid message size limits. See b/62115660.\n",
              "    let position = 0;\n",
              "    do {\n",
              "      const length = Math.min(fileData.byteLength - position, MAX_PAYLOAD_SIZE);\n",
              "      const chunk = new Uint8Array(fileData, position, length);\n",
              "      position += length;\n",
              "\n",
              "      const base64 = btoa(String.fromCharCode.apply(null, chunk));\n",
              "      yield {\n",
              "        response: {\n",
              "          action: 'append',\n",
              "          file: file.name,\n",
              "          data: base64,\n",
              "        },\n",
              "      };\n",
              "\n",
              "      let percentDone = fileData.byteLength === 0 ?\n",
              "          100 :\n",
              "          Math.round((position / fileData.byteLength) * 100);\n",
              "      percent.textContent = `${percentDone}% done`;\n",
              "\n",
              "    } while (position < fileData.byteLength);\n",
              "  }\n",
              "\n",
              "  // All done.\n",
              "  yield {\n",
              "    response: {\n",
              "      action: 'complete',\n",
              "    }\n",
              "  };\n",
              "}\n",
              "\n",
              "scope.google = scope.google || {};\n",
              "scope.google.colab = scope.google.colab || {};\n",
              "scope.google.colab._files = {\n",
              "  _uploadFiles,\n",
              "  _uploadFilesContinue,\n",
              "};\n",
              "})(self);\n",
              "</script> "
            ]
          },
          "metadata": {}
        },
        {
          "output_type": "stream",
          "name": "stdout",
          "text": [
            "Saving train.csv to train.csv\n"
          ]
        }
      ],
      "source": [
        "#read in data\n",
        "from google.colab import files\n",
        "uploaded = files.upload()"
      ],
      "id": "YW3UE_tdyFx3"
    },
    {
      "cell_type": "code",
      "execution_count": null,
      "metadata": {
        "id": "b1ad92ad"
      },
      "outputs": [],
      "source": [
        "train_data = pd.read_csv(\"train.csv\")"
      ],
      "id": "b1ad92ad"
    },
    {
      "cell_type": "markdown",
      "metadata": {
        "id": "b937754e"
      },
      "source": [
        "#### The most basic model \n",
        "- The most simple model would predict the same for all observations : average or median of the training dataset\n"
      ],
      "id": "b937754e"
    },
    {
      "cell_type": "code",
      "execution_count": null,
      "metadata": {
        "id": "3a201817"
      },
      "outputs": [],
      "source": [
        "train_copy = train_data.copy(deep = 1)"
      ],
      "id": "3a201817"
    },
    {
      "cell_type": "code",
      "execution_count": null,
      "metadata": {
        "colab": {
          "base_uri": "https://localhost:8080/",
          "height": 629
        },
        "id": "2a48a3d0",
        "outputId": "c6460434-7921-49e0-f7bb-f1b73a52ffc4"
      },
      "outputs": [
        {
          "output_type": "execute_result",
          "data": {
            "text/plain": [
              "   property_id                                    property_name  \\\n",
              "0            1                    Chambre à louer,courte durée.   \n",
              "1            2  Urban Antwerp - Spacious & Authentic Herenhouse   \n",
              "2            3   comfortable apartment in friendly neighborhood   \n",
              "3            4                         Historical City Antwerp.   \n",
              "4            5                              Antwerp center city   \n",
              "\n",
              "                                    property_summary  \\\n",
              "0  Je loue une chambre dans mon appartement \"atyp...   \n",
              "1  Our place is a typical historic herenhuis clos...   \n",
              "2  Nice and cozy apartment for couples who like t...   \n",
              "3  The best place to stay if you like to be in th...   \n",
              "4  Our place is right in the heart of the histori...   \n",
              "\n",
              "                                      property_space  \\\n",
              "0  Espace duplex très grand et lumineux,la chambr...   \n",
              "1  The spaces in our house are all large with hig...   \n",
              "2  Nice proper and clean apartment. No personal s...   \n",
              "3  Our rooms are nice and spacious. You stay in a...   \n",
              "4  It is situated in the center if the old town. ...   \n",
              "\n",
              "                                       property_desc  \\\n",
              "0  Je loue une chambre dans mon appartement \"atyp...   \n",
              "1  Our place is a typical historic herenhuis clos...   \n",
              "2  Nice and cozy apartment for couples who like t...   \n",
              "3  The best place to stay if you like to be in th...   \n",
              "4  Our place is right in the heart of the histori...   \n",
              "\n",
              "                               property_neighborhood  \\\n",
              "0                                                NaN   \n",
              "1  Bar and restaurants One of our favourite bars ...   \n",
              "2  Op 5 minuten lopen zijn er 2 gezellig stadpark...   \n",
              "3    In the middle of the historical city of Antwerp   \n",
              "4  The neighborhood is in the historical part of ...   \n",
              "\n",
              "                                      property_notes  \\\n",
              "0                                                NaN   \n",
              "1                                                NaN   \n",
              "2  Public transport is next to the apartment and ...   \n",
              "3  Staying in our house you have to be able to cl...   \n",
              "4                                                NaN   \n",
              "\n",
              "                                    property_transit  \\\n",
              "0  Accès direct de la Gare du Nord  ( 4 arrêts de...   \n",
              "1  In Antwerp we have the system with rental bike...   \n",
              "2  Fiets verhuur voor de deur. (dag/weekkaart) vi...   \n",
              "3  Tram 10 and 11 from Central station stop in ou...   \n",
              "4  The easiest is just to walk into the city ther...   \n",
              "\n",
              "                                     property_access  \\\n",
              "0                                                NaN   \n",
              "1  You will be able to access the following space...   \n",
              "2  As a good host I trust my guest. No secrets an...   \n",
              "3  Beside your own room you can relax in the down...   \n",
              "4  You will enter the house through the Downstair...   \n",
              "\n",
              "                                property_interaction  ... reviews_rating  \\\n",
              "0  Je suis entièrement disponible pour tout échan...  ...           97.0   \n",
              "1  We are always available to help and assist whe...  ...          100.0   \n",
              "2  Ik ben altijd bereikbaar voor vragen, maar ben...  ...           93.0   \n",
              "3  We will be available to let you know where wha...  ...           98.0   \n",
              "4  I will be present to help you out with any kin...  ...           97.0   \n",
              "\n",
              "  reviews_acc  reviews_cleanliness  reviews_checkin reviews_communication  \\\n",
              "0        10.0                  9.0             10.0                  10.0   \n",
              "1        10.0                 10.0             10.0                  10.0   \n",
              "2        10.0                 10.0              9.0                   9.0   \n",
              "3        10.0                 10.0             10.0                  10.0   \n",
              "4        10.0                 10.0             10.0                  10.0   \n",
              "\n",
              "  reviews_location  reviews_value  reviews_per_month  \\\n",
              "0              9.0           10.0               1.31   \n",
              "1              8.0           10.0               1.00   \n",
              "2              9.0           10.0               0.75   \n",
              "3             10.0           10.0               6.90   \n",
              "4             10.0           10.0               4.16   \n",
              "\n",
              "                                               extra  target  \n",
              "0                               Host Has Profile Pic      26  \n",
              "1            Host Has Profile Pic, Is Location Exact      75  \n",
              "2  Host Has Profile Pic, Is Location Exact, Insta...     110  \n",
              "3  Host Is Superhost, Host Has Profile Pic, Host ...      60  \n",
              "4  Host Is Superhost, Host Has Profile Pic, Host ...      55  \n",
              "\n",
              "[5 rows x 55 columns]"
            ],
            "text/html": [
              "\n",
              "  <div id=\"df-c8b36345-34d1-42ca-bfe3-6af44a1df836\">\n",
              "    <div class=\"colab-df-container\">\n",
              "      <div>\n",
              "<style scoped>\n",
              "    .dataframe tbody tr th:only-of-type {\n",
              "        vertical-align: middle;\n",
              "    }\n",
              "\n",
              "    .dataframe tbody tr th {\n",
              "        vertical-align: top;\n",
              "    }\n",
              "\n",
              "    .dataframe thead th {\n",
              "        text-align: right;\n",
              "    }\n",
              "</style>\n",
              "<table border=\"1\" class=\"dataframe\">\n",
              "  <thead>\n",
              "    <tr style=\"text-align: right;\">\n",
              "      <th></th>\n",
              "      <th>property_id</th>\n",
              "      <th>property_name</th>\n",
              "      <th>property_summary</th>\n",
              "      <th>property_space</th>\n",
              "      <th>property_desc</th>\n",
              "      <th>property_neighborhood</th>\n",
              "      <th>property_notes</th>\n",
              "      <th>property_transit</th>\n",
              "      <th>property_access</th>\n",
              "      <th>property_interaction</th>\n",
              "      <th>...</th>\n",
              "      <th>reviews_rating</th>\n",
              "      <th>reviews_acc</th>\n",
              "      <th>reviews_cleanliness</th>\n",
              "      <th>reviews_checkin</th>\n",
              "      <th>reviews_communication</th>\n",
              "      <th>reviews_location</th>\n",
              "      <th>reviews_value</th>\n",
              "      <th>reviews_per_month</th>\n",
              "      <th>extra</th>\n",
              "      <th>target</th>\n",
              "    </tr>\n",
              "  </thead>\n",
              "  <tbody>\n",
              "    <tr>\n",
              "      <th>0</th>\n",
              "      <td>1</td>\n",
              "      <td>Chambre à louer,courte durée.</td>\n",
              "      <td>Je loue une chambre dans mon appartement \"atyp...</td>\n",
              "      <td>Espace duplex très grand et lumineux,la chambr...</td>\n",
              "      <td>Je loue une chambre dans mon appartement \"atyp...</td>\n",
              "      <td>NaN</td>\n",
              "      <td>NaN</td>\n",
              "      <td>Accès direct de la Gare du Nord  ( 4 arrêts de...</td>\n",
              "      <td>NaN</td>\n",
              "      <td>Je suis entièrement disponible pour tout échan...</td>\n",
              "      <td>...</td>\n",
              "      <td>97.0</td>\n",
              "      <td>10.0</td>\n",
              "      <td>9.0</td>\n",
              "      <td>10.0</td>\n",
              "      <td>10.0</td>\n",
              "      <td>9.0</td>\n",
              "      <td>10.0</td>\n",
              "      <td>1.31</td>\n",
              "      <td>Host Has Profile Pic</td>\n",
              "      <td>26</td>\n",
              "    </tr>\n",
              "    <tr>\n",
              "      <th>1</th>\n",
              "      <td>2</td>\n",
              "      <td>Urban Antwerp - Spacious &amp; Authentic Herenhouse</td>\n",
              "      <td>Our place is a typical historic herenhuis clos...</td>\n",
              "      <td>The spaces in our house are all large with hig...</td>\n",
              "      <td>Our place is a typical historic herenhuis clos...</td>\n",
              "      <td>Bar and restaurants One of our favourite bars ...</td>\n",
              "      <td>NaN</td>\n",
              "      <td>In Antwerp we have the system with rental bike...</td>\n",
              "      <td>You will be able to access the following space...</td>\n",
              "      <td>We are always available to help and assist whe...</td>\n",
              "      <td>...</td>\n",
              "      <td>100.0</td>\n",
              "      <td>10.0</td>\n",
              "      <td>10.0</td>\n",
              "      <td>10.0</td>\n",
              "      <td>10.0</td>\n",
              "      <td>8.0</td>\n",
              "      <td>10.0</td>\n",
              "      <td>1.00</td>\n",
              "      <td>Host Has Profile Pic, Is Location Exact</td>\n",
              "      <td>75</td>\n",
              "    </tr>\n",
              "    <tr>\n",
              "      <th>2</th>\n",
              "      <td>3</td>\n",
              "      <td>comfortable apartment in friendly neighborhood</td>\n",
              "      <td>Nice and cozy apartment for couples who like t...</td>\n",
              "      <td>Nice proper and clean apartment. No personal s...</td>\n",
              "      <td>Nice and cozy apartment for couples who like t...</td>\n",
              "      <td>Op 5 minuten lopen zijn er 2 gezellig stadpark...</td>\n",
              "      <td>Public transport is next to the apartment and ...</td>\n",
              "      <td>Fiets verhuur voor de deur. (dag/weekkaart) vi...</td>\n",
              "      <td>As a good host I trust my guest. No secrets an...</td>\n",
              "      <td>Ik ben altijd bereikbaar voor vragen, maar ben...</td>\n",
              "      <td>...</td>\n",
              "      <td>93.0</td>\n",
              "      <td>10.0</td>\n",
              "      <td>10.0</td>\n",
              "      <td>9.0</td>\n",
              "      <td>9.0</td>\n",
              "      <td>9.0</td>\n",
              "      <td>10.0</td>\n",
              "      <td>0.75</td>\n",
              "      <td>Host Has Profile Pic, Is Location Exact, Insta...</td>\n",
              "      <td>110</td>\n",
              "    </tr>\n",
              "    <tr>\n",
              "      <th>3</th>\n",
              "      <td>4</td>\n",
              "      <td>Historical City Antwerp.</td>\n",
              "      <td>The best place to stay if you like to be in th...</td>\n",
              "      <td>Our rooms are nice and spacious. You stay in a...</td>\n",
              "      <td>The best place to stay if you like to be in th...</td>\n",
              "      <td>In the middle of the historical city of Antwerp</td>\n",
              "      <td>Staying in our house you have to be able to cl...</td>\n",
              "      <td>Tram 10 and 11 from Central station stop in ou...</td>\n",
              "      <td>Beside your own room you can relax in the down...</td>\n",
              "      <td>We will be available to let you know where wha...</td>\n",
              "      <td>...</td>\n",
              "      <td>98.0</td>\n",
              "      <td>10.0</td>\n",
              "      <td>10.0</td>\n",
              "      <td>10.0</td>\n",
              "      <td>10.0</td>\n",
              "      <td>10.0</td>\n",
              "      <td>10.0</td>\n",
              "      <td>6.90</td>\n",
              "      <td>Host Is Superhost, Host Has Profile Pic, Host ...</td>\n",
              "      <td>60</td>\n",
              "    </tr>\n",
              "    <tr>\n",
              "      <th>4</th>\n",
              "      <td>5</td>\n",
              "      <td>Antwerp center city</td>\n",
              "      <td>Our place is right in the heart of the histori...</td>\n",
              "      <td>It is situated in the center if the old town. ...</td>\n",
              "      <td>Our place is right in the heart of the histori...</td>\n",
              "      <td>The neighborhood is in the historical part of ...</td>\n",
              "      <td>NaN</td>\n",
              "      <td>The easiest is just to walk into the city ther...</td>\n",
              "      <td>You will enter the house through the Downstair...</td>\n",
              "      <td>I will be present to help you out with any kin...</td>\n",
              "      <td>...</td>\n",
              "      <td>97.0</td>\n",
              "      <td>10.0</td>\n",
              "      <td>10.0</td>\n",
              "      <td>10.0</td>\n",
              "      <td>10.0</td>\n",
              "      <td>10.0</td>\n",
              "      <td>10.0</td>\n",
              "      <td>4.16</td>\n",
              "      <td>Host Is Superhost, Host Has Profile Pic, Host ...</td>\n",
              "      <td>55</td>\n",
              "    </tr>\n",
              "  </tbody>\n",
              "</table>\n",
              "<p>5 rows × 55 columns</p>\n",
              "</div>\n",
              "      <button class=\"colab-df-convert\" onclick=\"convertToInteractive('df-c8b36345-34d1-42ca-bfe3-6af44a1df836')\"\n",
              "              title=\"Convert this dataframe to an interactive table.\"\n",
              "              style=\"display:none;\">\n",
              "        \n",
              "  <svg xmlns=\"http://www.w3.org/2000/svg\" height=\"24px\"viewBox=\"0 0 24 24\"\n",
              "       width=\"24px\">\n",
              "    <path d=\"M0 0h24v24H0V0z\" fill=\"none\"/>\n",
              "    <path d=\"M18.56 5.44l.94 2.06.94-2.06 2.06-.94-2.06-.94-.94-2.06-.94 2.06-2.06.94zm-11 1L8.5 8.5l.94-2.06 2.06-.94-2.06-.94L8.5 2.5l-.94 2.06-2.06.94zm10 10l.94 2.06.94-2.06 2.06-.94-2.06-.94-.94-2.06-.94 2.06-2.06.94z\"/><path d=\"M17.41 7.96l-1.37-1.37c-.4-.4-.92-.59-1.43-.59-.52 0-1.04.2-1.43.59L10.3 9.45l-7.72 7.72c-.78.78-.78 2.05 0 2.83L4 21.41c.39.39.9.59 1.41.59.51 0 1.02-.2 1.41-.59l7.78-7.78 2.81-2.81c.8-.78.8-2.07 0-2.86zM5.41 20L4 18.59l7.72-7.72 1.47 1.35L5.41 20z\"/>\n",
              "  </svg>\n",
              "      </button>\n",
              "      \n",
              "  <style>\n",
              "    .colab-df-container {\n",
              "      display:flex;\n",
              "      flex-wrap:wrap;\n",
              "      gap: 12px;\n",
              "    }\n",
              "\n",
              "    .colab-df-convert {\n",
              "      background-color: #E8F0FE;\n",
              "      border: none;\n",
              "      border-radius: 50%;\n",
              "      cursor: pointer;\n",
              "      display: none;\n",
              "      fill: #1967D2;\n",
              "      height: 32px;\n",
              "      padding: 0 0 0 0;\n",
              "      width: 32px;\n",
              "    }\n",
              "\n",
              "    .colab-df-convert:hover {\n",
              "      background-color: #E2EBFA;\n",
              "      box-shadow: 0px 1px 2px rgba(60, 64, 67, 0.3), 0px 1px 3px 1px rgba(60, 64, 67, 0.15);\n",
              "      fill: #174EA6;\n",
              "    }\n",
              "\n",
              "    [theme=dark] .colab-df-convert {\n",
              "      background-color: #3B4455;\n",
              "      fill: #D2E3FC;\n",
              "    }\n",
              "\n",
              "    [theme=dark] .colab-df-convert:hover {\n",
              "      background-color: #434B5C;\n",
              "      box-shadow: 0px 1px 3px 1px rgba(0, 0, 0, 0.15);\n",
              "      filter: drop-shadow(0px 1px 2px rgba(0, 0, 0, 0.3));\n",
              "      fill: #FFFFFF;\n",
              "    }\n",
              "  </style>\n",
              "\n",
              "      <script>\n",
              "        const buttonEl =\n",
              "          document.querySelector('#df-c8b36345-34d1-42ca-bfe3-6af44a1df836 button.colab-df-convert');\n",
              "        buttonEl.style.display =\n",
              "          google.colab.kernel.accessAllowed ? 'block' : 'none';\n",
              "\n",
              "        async function convertToInteractive(key) {\n",
              "          const element = document.querySelector('#df-c8b36345-34d1-42ca-bfe3-6af44a1df836');\n",
              "          const dataTable =\n",
              "            await google.colab.kernel.invokeFunction('convertToInteractive',\n",
              "                                                     [key], {});\n",
              "          if (!dataTable) return;\n",
              "\n",
              "          const docLinkHtml = 'Like what you see? Visit the ' +\n",
              "            '<a target=\"_blank\" href=https://colab.research.google.com/notebooks/data_table.ipynb>data table notebook</a>'\n",
              "            + ' to learn more about interactive tables.';\n",
              "          element.innerHTML = '';\n",
              "          dataTable['output_type'] = 'display_data';\n",
              "          await google.colab.output.renderOutput(dataTable, element);\n",
              "          const docLink = document.createElement('div');\n",
              "          docLink.innerHTML = docLinkHtml;\n",
              "          element.appendChild(docLink);\n",
              "        }\n",
              "      </script>\n",
              "    </div>\n",
              "  </div>\n",
              "  "
            ]
          },
          "metadata": {},
          "execution_count": 8
        }
      ],
      "source": [
        "train_copy.head()"
      ],
      "id": "2a48a3d0"
    },
    {
      "cell_type": "code",
      "source": [
        "train_data.info()"
      ],
      "metadata": {
        "colab": {
          "base_uri": "https://localhost:8080/"
        },
        "id": "m2ZmSW6CCmxp",
        "outputId": "08b93128-1eea-4a33-dcf1-57c68bbcd26b"
      },
      "id": "m2ZmSW6CCmxp",
      "execution_count": null,
      "outputs": [
        {
          "output_type": "stream",
          "name": "stdout",
          "text": [
            "<class 'pandas.core.frame.DataFrame'>\n",
            "RangeIndex: 6495 entries, 0 to 6494\n",
            "Data columns (total 55 columns):\n",
            " #   Column                    Non-Null Count  Dtype  \n",
            "---  ------                    --------------  -----  \n",
            " 0   property_id               6495 non-null   int64  \n",
            " 1   property_name             6471 non-null   object \n",
            " 2   property_summary          6283 non-null   object \n",
            " 3   property_space            4186 non-null   object \n",
            " 4   property_desc             6492 non-null   object \n",
            " 5   property_neighborhood     3684 non-null   object \n",
            " 6   property_notes            1973 non-null   object \n",
            " 7   property_transit          3915 non-null   object \n",
            " 8   property_access           3360 non-null   object \n",
            " 9   property_interaction      3091 non-null   object \n",
            " 10  property_rules            3326 non-null   object \n",
            " 11  property_zipcode          6361 non-null   object \n",
            " 12  property_lat              6495 non-null   float64\n",
            " 13  property_lon              6495 non-null   float64\n",
            " 14  property_type             6495 non-null   object \n",
            " 15  property_room_type        6495 non-null   object \n",
            " 16  property_max_guests       6495 non-null   int64  \n",
            " 17  property_bathrooms        6483 non-null   float64\n",
            " 18  property_bedrooms         6486 non-null   float64\n",
            " 19  property_beds             6484 non-null   float64\n",
            " 20  property_bed_type         6495 non-null   object \n",
            " 21  property_amenities        6443 non-null   object \n",
            " 22  property_sqfeet           162 non-null    float64\n",
            " 23  property_scraped_at       6495 non-null   object \n",
            " 24  property_last_updated     6495 non-null   object \n",
            " 25  host_id                   6495 non-null   int64  \n",
            " 26  host_since                6494 non-null   object \n",
            " 27  host_location             6462 non-null   object \n",
            " 28  host_about                3388 non-null   object \n",
            " 29  host_response_time        5034 non-null   object \n",
            " 30  host_response_rate        5034 non-null   float64\n",
            " 31  host_nr_listings          6494 non-null   float64\n",
            " 32  host_nr_listings_total    6494 non-null   float64\n",
            " 33  host_verified             6495 non-null   object \n",
            " 34  booking_price_covers      6495 non-null   int64  \n",
            " 35  booking_min_nights        6495 non-null   int64  \n",
            " 36  booking_max_nights        6495 non-null   int64  \n",
            " 37  booking_availability_30   6495 non-null   int64  \n",
            " 38  booking_availability_60   6495 non-null   int64  \n",
            " 39  booking_availability_90   6495 non-null   int64  \n",
            " 40  booking_availability_365  6495 non-null   int64  \n",
            " 41  booking_cancel_policy     6495 non-null   object \n",
            " 42  reviews_num               6495 non-null   int64  \n",
            " 43  reviews_first             5205 non-null   object \n",
            " 44  reviews_last              5205 non-null   object \n",
            " 45  reviews_rating            5112 non-null   float64\n",
            " 46  reviews_acc               5096 non-null   float64\n",
            " 47  reviews_cleanliness       5098 non-null   float64\n",
            " 48  reviews_checkin           5094 non-null   float64\n",
            " 49  reviews_communication     5099 non-null   float64\n",
            " 50  reviews_location          5092 non-null   float64\n",
            " 51  reviews_value             5090 non-null   float64\n",
            " 52  reviews_per_month         5205 non-null   float64\n",
            " 53  extra                     6490 non-null   object \n",
            " 54  target                    6495 non-null   int64  \n",
            "dtypes: float64(17), int64(12), object(26)\n",
            "memory usage: 2.7+ MB\n"
          ]
        }
      ]
    },
    {
      "cell_type": "code",
      "execution_count": null,
      "metadata": {
        "colab": {
          "base_uri": "https://localhost:8080/",
          "height": 629
        },
        "id": "X70naHDWMtGG",
        "outputId": "d0c7fd6c-3756-40a0-dd92-3ec636df9717"
      },
      "outputs": [
        {
          "output_type": "execute_result",
          "data": {
            "text/plain": [
              "   property_id                                    property_name  \\\n",
              "0            1                    Chambre à louer,courte durée.   \n",
              "1            2  Urban Antwerp - Spacious & Authentic Herenhouse   \n",
              "2            3   comfortable apartment in friendly neighborhood   \n",
              "3            4                         Historical City Antwerp.   \n",
              "4            5                              Antwerp center city   \n",
              "\n",
              "                                    property_summary  \\\n",
              "0  Je loue une chambre dans mon appartement \"atyp...   \n",
              "1  Our place is a typical historic herenhuis clos...   \n",
              "2  Nice and cozy apartment for couples who like t...   \n",
              "3  The best place to stay if you like to be in th...   \n",
              "4  Our place is right in the heart of the histori...   \n",
              "\n",
              "                                      property_space  \\\n",
              "0  Espace duplex très grand et lumineux,la chambr...   \n",
              "1  The spaces in our house are all large with hig...   \n",
              "2  Nice proper and clean apartment. No personal s...   \n",
              "3  Our rooms are nice and spacious. You stay in a...   \n",
              "4  It is situated in the center if the old town. ...   \n",
              "\n",
              "                                       property_desc  \\\n",
              "0  Je loue une chambre dans mon appartement \"atyp...   \n",
              "1  Our place is a typical historic herenhuis clos...   \n",
              "2  Nice and cozy apartment for couples who like t...   \n",
              "3  The best place to stay if you like to be in th...   \n",
              "4  Our place is right in the heart of the histori...   \n",
              "\n",
              "                               property_neighborhood  \\\n",
              "0                                                NaN   \n",
              "1  Bar and restaurants One of our favourite bars ...   \n",
              "2  Op 5 minuten lopen zijn er 2 gezellig stadpark...   \n",
              "3    In the middle of the historical city of Antwerp   \n",
              "4  The neighborhood is in the historical part of ...   \n",
              "\n",
              "                                      property_notes  \\\n",
              "0                                                NaN   \n",
              "1                                                NaN   \n",
              "2  Public transport is next to the apartment and ...   \n",
              "3  Staying in our house you have to be able to cl...   \n",
              "4                                                NaN   \n",
              "\n",
              "                                    property_transit  \\\n",
              "0  Accès direct de la Gare du Nord  ( 4 arrêts de...   \n",
              "1  In Antwerp we have the system with rental bike...   \n",
              "2  Fiets verhuur voor de deur. (dag/weekkaart) vi...   \n",
              "3  Tram 10 and 11 from Central station stop in ou...   \n",
              "4  The easiest is just to walk into the city ther...   \n",
              "\n",
              "                                     property_access  \\\n",
              "0                                                NaN   \n",
              "1  You will be able to access the following space...   \n",
              "2  As a good host I trust my guest. No secrets an...   \n",
              "3  Beside your own room you can relax in the down...   \n",
              "4  You will enter the house through the Downstair...   \n",
              "\n",
              "                                property_interaction  ... reviews_rating  \\\n",
              "0  Je suis entièrement disponible pour tout échan...  ...           97.0   \n",
              "1  We are always available to help and assist whe...  ...          100.0   \n",
              "2  Ik ben altijd bereikbaar voor vragen, maar ben...  ...           93.0   \n",
              "3  We will be available to let you know where wha...  ...           98.0   \n",
              "4  I will be present to help you out with any kin...  ...           97.0   \n",
              "\n",
              "  reviews_acc  reviews_cleanliness  reviews_checkin reviews_communication  \\\n",
              "0        10.0                  9.0             10.0                  10.0   \n",
              "1        10.0                 10.0             10.0                  10.0   \n",
              "2        10.0                 10.0              9.0                   9.0   \n",
              "3        10.0                 10.0             10.0                  10.0   \n",
              "4        10.0                 10.0             10.0                  10.0   \n",
              "\n",
              "  reviews_location  reviews_value  reviews_per_month  \\\n",
              "0              9.0           10.0               1.31   \n",
              "1              8.0           10.0               1.00   \n",
              "2              9.0           10.0               0.75   \n",
              "3             10.0           10.0               6.90   \n",
              "4             10.0           10.0               4.16   \n",
              "\n",
              "                                               extra  target  \n",
              "0                               Host Has Profile Pic      26  \n",
              "1            Host Has Profile Pic, Is Location Exact      75  \n",
              "2  Host Has Profile Pic, Is Location Exact, Insta...     110  \n",
              "3  Host Is Superhost, Host Has Profile Pic, Host ...      60  \n",
              "4  Host Is Superhost, Host Has Profile Pic, Host ...      55  \n",
              "\n",
              "[5 rows x 55 columns]"
            ],
            "text/html": [
              "\n",
              "  <div id=\"df-acf25347-6a30-478d-a8f4-ae41d9da70f6\">\n",
              "    <div class=\"colab-df-container\">\n",
              "      <div>\n",
              "<style scoped>\n",
              "    .dataframe tbody tr th:only-of-type {\n",
              "        vertical-align: middle;\n",
              "    }\n",
              "\n",
              "    .dataframe tbody tr th {\n",
              "        vertical-align: top;\n",
              "    }\n",
              "\n",
              "    .dataframe thead th {\n",
              "        text-align: right;\n",
              "    }\n",
              "</style>\n",
              "<table border=\"1\" class=\"dataframe\">\n",
              "  <thead>\n",
              "    <tr style=\"text-align: right;\">\n",
              "      <th></th>\n",
              "      <th>property_id</th>\n",
              "      <th>property_name</th>\n",
              "      <th>property_summary</th>\n",
              "      <th>property_space</th>\n",
              "      <th>property_desc</th>\n",
              "      <th>property_neighborhood</th>\n",
              "      <th>property_notes</th>\n",
              "      <th>property_transit</th>\n",
              "      <th>property_access</th>\n",
              "      <th>property_interaction</th>\n",
              "      <th>...</th>\n",
              "      <th>reviews_rating</th>\n",
              "      <th>reviews_acc</th>\n",
              "      <th>reviews_cleanliness</th>\n",
              "      <th>reviews_checkin</th>\n",
              "      <th>reviews_communication</th>\n",
              "      <th>reviews_location</th>\n",
              "      <th>reviews_value</th>\n",
              "      <th>reviews_per_month</th>\n",
              "      <th>extra</th>\n",
              "      <th>target</th>\n",
              "    </tr>\n",
              "  </thead>\n",
              "  <tbody>\n",
              "    <tr>\n",
              "      <th>0</th>\n",
              "      <td>1</td>\n",
              "      <td>Chambre à louer,courte durée.</td>\n",
              "      <td>Je loue une chambre dans mon appartement \"atyp...</td>\n",
              "      <td>Espace duplex très grand et lumineux,la chambr...</td>\n",
              "      <td>Je loue une chambre dans mon appartement \"atyp...</td>\n",
              "      <td>NaN</td>\n",
              "      <td>NaN</td>\n",
              "      <td>Accès direct de la Gare du Nord  ( 4 arrêts de...</td>\n",
              "      <td>NaN</td>\n",
              "      <td>Je suis entièrement disponible pour tout échan...</td>\n",
              "      <td>...</td>\n",
              "      <td>97.0</td>\n",
              "      <td>10.0</td>\n",
              "      <td>9.0</td>\n",
              "      <td>10.0</td>\n",
              "      <td>10.0</td>\n",
              "      <td>9.0</td>\n",
              "      <td>10.0</td>\n",
              "      <td>1.31</td>\n",
              "      <td>Host Has Profile Pic</td>\n",
              "      <td>26</td>\n",
              "    </tr>\n",
              "    <tr>\n",
              "      <th>1</th>\n",
              "      <td>2</td>\n",
              "      <td>Urban Antwerp - Spacious &amp; Authentic Herenhouse</td>\n",
              "      <td>Our place is a typical historic herenhuis clos...</td>\n",
              "      <td>The spaces in our house are all large with hig...</td>\n",
              "      <td>Our place is a typical historic herenhuis clos...</td>\n",
              "      <td>Bar and restaurants One of our favourite bars ...</td>\n",
              "      <td>NaN</td>\n",
              "      <td>In Antwerp we have the system with rental bike...</td>\n",
              "      <td>You will be able to access the following space...</td>\n",
              "      <td>We are always available to help and assist whe...</td>\n",
              "      <td>...</td>\n",
              "      <td>100.0</td>\n",
              "      <td>10.0</td>\n",
              "      <td>10.0</td>\n",
              "      <td>10.0</td>\n",
              "      <td>10.0</td>\n",
              "      <td>8.0</td>\n",
              "      <td>10.0</td>\n",
              "      <td>1.00</td>\n",
              "      <td>Host Has Profile Pic, Is Location Exact</td>\n",
              "      <td>75</td>\n",
              "    </tr>\n",
              "    <tr>\n",
              "      <th>2</th>\n",
              "      <td>3</td>\n",
              "      <td>comfortable apartment in friendly neighborhood</td>\n",
              "      <td>Nice and cozy apartment for couples who like t...</td>\n",
              "      <td>Nice proper and clean apartment. No personal s...</td>\n",
              "      <td>Nice and cozy apartment for couples who like t...</td>\n",
              "      <td>Op 5 minuten lopen zijn er 2 gezellig stadpark...</td>\n",
              "      <td>Public transport is next to the apartment and ...</td>\n",
              "      <td>Fiets verhuur voor de deur. (dag/weekkaart) vi...</td>\n",
              "      <td>As a good host I trust my guest. No secrets an...</td>\n",
              "      <td>Ik ben altijd bereikbaar voor vragen, maar ben...</td>\n",
              "      <td>...</td>\n",
              "      <td>93.0</td>\n",
              "      <td>10.0</td>\n",
              "      <td>10.0</td>\n",
              "      <td>9.0</td>\n",
              "      <td>9.0</td>\n",
              "      <td>9.0</td>\n",
              "      <td>10.0</td>\n",
              "      <td>0.75</td>\n",
              "      <td>Host Has Profile Pic, Is Location Exact, Insta...</td>\n",
              "      <td>110</td>\n",
              "    </tr>\n",
              "    <tr>\n",
              "      <th>3</th>\n",
              "      <td>4</td>\n",
              "      <td>Historical City Antwerp.</td>\n",
              "      <td>The best place to stay if you like to be in th...</td>\n",
              "      <td>Our rooms are nice and spacious. You stay in a...</td>\n",
              "      <td>The best place to stay if you like to be in th...</td>\n",
              "      <td>In the middle of the historical city of Antwerp</td>\n",
              "      <td>Staying in our house you have to be able to cl...</td>\n",
              "      <td>Tram 10 and 11 from Central station stop in ou...</td>\n",
              "      <td>Beside your own room you can relax in the down...</td>\n",
              "      <td>We will be available to let you know where wha...</td>\n",
              "      <td>...</td>\n",
              "      <td>98.0</td>\n",
              "      <td>10.0</td>\n",
              "      <td>10.0</td>\n",
              "      <td>10.0</td>\n",
              "      <td>10.0</td>\n",
              "      <td>10.0</td>\n",
              "      <td>10.0</td>\n",
              "      <td>6.90</td>\n",
              "      <td>Host Is Superhost, Host Has Profile Pic, Host ...</td>\n",
              "      <td>60</td>\n",
              "    </tr>\n",
              "    <tr>\n",
              "      <th>4</th>\n",
              "      <td>5</td>\n",
              "      <td>Antwerp center city</td>\n",
              "      <td>Our place is right in the heart of the histori...</td>\n",
              "      <td>It is situated in the center if the old town. ...</td>\n",
              "      <td>Our place is right in the heart of the histori...</td>\n",
              "      <td>The neighborhood is in the historical part of ...</td>\n",
              "      <td>NaN</td>\n",
              "      <td>The easiest is just to walk into the city ther...</td>\n",
              "      <td>You will enter the house through the Downstair...</td>\n",
              "      <td>I will be present to help you out with any kin...</td>\n",
              "      <td>...</td>\n",
              "      <td>97.0</td>\n",
              "      <td>10.0</td>\n",
              "      <td>10.0</td>\n",
              "      <td>10.0</td>\n",
              "      <td>10.0</td>\n",
              "      <td>10.0</td>\n",
              "      <td>10.0</td>\n",
              "      <td>4.16</td>\n",
              "      <td>Host Is Superhost, Host Has Profile Pic, Host ...</td>\n",
              "      <td>55</td>\n",
              "    </tr>\n",
              "  </tbody>\n",
              "</table>\n",
              "<p>5 rows × 55 columns</p>\n",
              "</div>\n",
              "      <button class=\"colab-df-convert\" onclick=\"convertToInteractive('df-acf25347-6a30-478d-a8f4-ae41d9da70f6')\"\n",
              "              title=\"Convert this dataframe to an interactive table.\"\n",
              "              style=\"display:none;\">\n",
              "        \n",
              "  <svg xmlns=\"http://www.w3.org/2000/svg\" height=\"24px\"viewBox=\"0 0 24 24\"\n",
              "       width=\"24px\">\n",
              "    <path d=\"M0 0h24v24H0V0z\" fill=\"none\"/>\n",
              "    <path d=\"M18.56 5.44l.94 2.06.94-2.06 2.06-.94-2.06-.94-.94-2.06-.94 2.06-2.06.94zm-11 1L8.5 8.5l.94-2.06 2.06-.94-2.06-.94L8.5 2.5l-.94 2.06-2.06.94zm10 10l.94 2.06.94-2.06 2.06-.94-2.06-.94-.94-2.06-.94 2.06-2.06.94z\"/><path d=\"M17.41 7.96l-1.37-1.37c-.4-.4-.92-.59-1.43-.59-.52 0-1.04.2-1.43.59L10.3 9.45l-7.72 7.72c-.78.78-.78 2.05 0 2.83L4 21.41c.39.39.9.59 1.41.59.51 0 1.02-.2 1.41-.59l7.78-7.78 2.81-2.81c.8-.78.8-2.07 0-2.86zM5.41 20L4 18.59l7.72-7.72 1.47 1.35L5.41 20z\"/>\n",
              "  </svg>\n",
              "      </button>\n",
              "      \n",
              "  <style>\n",
              "    .colab-df-container {\n",
              "      display:flex;\n",
              "      flex-wrap:wrap;\n",
              "      gap: 12px;\n",
              "    }\n",
              "\n",
              "    .colab-df-convert {\n",
              "      background-color: #E8F0FE;\n",
              "      border: none;\n",
              "      border-radius: 50%;\n",
              "      cursor: pointer;\n",
              "      display: none;\n",
              "      fill: #1967D2;\n",
              "      height: 32px;\n",
              "      padding: 0 0 0 0;\n",
              "      width: 32px;\n",
              "    }\n",
              "\n",
              "    .colab-df-convert:hover {\n",
              "      background-color: #E2EBFA;\n",
              "      box-shadow: 0px 1px 2px rgba(60, 64, 67, 0.3), 0px 1px 3px 1px rgba(60, 64, 67, 0.15);\n",
              "      fill: #174EA6;\n",
              "    }\n",
              "\n",
              "    [theme=dark] .colab-df-convert {\n",
              "      background-color: #3B4455;\n",
              "      fill: #D2E3FC;\n",
              "    }\n",
              "\n",
              "    [theme=dark] .colab-df-convert:hover {\n",
              "      background-color: #434B5C;\n",
              "      box-shadow: 0px 1px 3px 1px rgba(0, 0, 0, 0.15);\n",
              "      filter: drop-shadow(0px 1px 2px rgba(0, 0, 0, 0.3));\n",
              "      fill: #FFFFFF;\n",
              "    }\n",
              "  </style>\n",
              "\n",
              "      <script>\n",
              "        const buttonEl =\n",
              "          document.querySelector('#df-acf25347-6a30-478d-a8f4-ae41d9da70f6 button.colab-df-convert');\n",
              "        buttonEl.style.display =\n",
              "          google.colab.kernel.accessAllowed ? 'block' : 'none';\n",
              "\n",
              "        async function convertToInteractive(key) {\n",
              "          const element = document.querySelector('#df-acf25347-6a30-478d-a8f4-ae41d9da70f6');\n",
              "          const dataTable =\n",
              "            await google.colab.kernel.invokeFunction('convertToInteractive',\n",
              "                                                     [key], {});\n",
              "          if (!dataTable) return;\n",
              "\n",
              "          const docLinkHtml = 'Like what you see? Visit the ' +\n",
              "            '<a target=\"_blank\" href=https://colab.research.google.com/notebooks/data_table.ipynb>data table notebook</a>'\n",
              "            + ' to learn more about interactive tables.';\n",
              "          element.innerHTML = '';\n",
              "          dataTable['output_type'] = 'display_data';\n",
              "          await google.colab.output.renderOutput(dataTable, element);\n",
              "          const docLink = document.createElement('div');\n",
              "          docLink.innerHTML = docLinkHtml;\n",
              "          element.appendChild(docLink);\n",
              "        }\n",
              "      </script>\n",
              "    </div>\n",
              "  </div>\n",
              "  "
            ]
          },
          "metadata": {},
          "execution_count": 10
        }
      ],
      "source": [
        "train_data.head()"
      ],
      "id": "X70naHDWMtGG"
    },
    {
      "cell_type": "code",
      "execution_count": null,
      "metadata": {
        "id": "580f467b"
      },
      "outputs": [],
      "source": [
        "train_copy['basic_target'] = train_data['target'].median()"
      ],
      "id": "580f467b"
    },
    {
      "cell_type": "code",
      "execution_count": null,
      "metadata": {
        "colab": {
          "base_uri": "https://localhost:8080/"
        },
        "id": "3Fmj4ZP9KqRi",
        "outputId": "c147187a-1ab0-4f85-8939-7c59f0aaeb01"
      },
      "outputs": [
        {
          "output_type": "execute_result",
          "data": {
            "text/plain": [
              "55.0"
            ]
          },
          "metadata": {},
          "execution_count": 13
        }
      ],
      "source": [
        "train_data['target'].median()"
      ],
      "id": "3Fmj4ZP9KqRi"
    },
    {
      "cell_type": "code",
      "execution_count": null,
      "metadata": {
        "id": "euKfiId6KqXp"
      },
      "outputs": [],
      "source": [],
      "id": "euKfiId6KqXp"
    },
    {
      "cell_type": "markdown",
      "metadata": {
        "id": "a7c64931"
      },
      "source": [
        "#### Accuracy of the basic model"
      ],
      "id": "a7c64931"
    },
    {
      "cell_type": "code",
      "execution_count": null,
      "metadata": {
        "colab": {
          "base_uri": "https://localhost:8080/"
        },
        "id": "b57b1c8a",
        "outputId": "9c4e42e9-c777-4f3b-89ae-b42b72987869"
      },
      "outputs": [
        {
          "output_type": "stream",
          "name": "stdout",
          "text": [
            "Root mean Squared Error of the basic model on the validation set is: 53.48542641792253\n"
          ]
        }
      ],
      "source": [
        "print('Root mean Squared Error of the basic model on the validation set is:',mse(train_copy['target'], train_copy['basic_target'],squared=0))"
      ],
      "id": "b57b1c8a"
    },
    {
      "cell_type": "markdown",
      "metadata": {
        "id": "ac3b9c5c"
      },
      "source": [
        "#### Data Processing"
      ],
      "id": "ac3b9c5c"
    },
    {
      "cell_type": "code",
      "execution_count": null,
      "metadata": {
        "colab": {
          "base_uri": "https://localhost:8080/"
        },
        "id": "602fb1af",
        "outputId": "bb6a4e5d-f92d-4f22-f08f-8540cf905743"
      },
      "outputs": [
        {
          "output_type": "execute_result",
          "data": {
            "text/plain": [
              "Index(['property_id', 'property_name', 'property_summary', 'property_space',\n",
              "       'property_desc', 'property_neighborhood', 'property_notes',\n",
              "       'property_transit', 'property_access', 'property_interaction',\n",
              "       'property_rules', 'property_zipcode', 'property_lat', 'property_lon',\n",
              "       'property_type', 'property_room_type', 'property_max_guests',\n",
              "       'property_bathrooms', 'property_bedrooms', 'property_beds',\n",
              "       'property_bed_type', 'property_amenities', 'property_sqfeet',\n",
              "       'property_scraped_at', 'property_last_updated', 'host_id', 'host_since',\n",
              "       'host_location', 'host_about', 'host_response_time',\n",
              "       'host_response_rate', 'host_nr_listings', 'host_nr_listings_total',\n",
              "       'host_verified', 'booking_price_covers', 'booking_min_nights',\n",
              "       'booking_max_nights', 'booking_availability_30',\n",
              "       'booking_availability_60', 'booking_availability_90',\n",
              "       'booking_availability_365', 'booking_cancel_policy', 'reviews_num',\n",
              "       'reviews_first', 'reviews_last', 'reviews_rating', 'reviews_acc',\n",
              "       'reviews_cleanliness', 'reviews_checkin', 'reviews_communication',\n",
              "       'reviews_location', 'reviews_value', 'reviews_per_month', 'extra',\n",
              "       'target'],\n",
              "      dtype='object')"
            ]
          },
          "metadata": {},
          "execution_count": 15
        }
      ],
      "source": [
        "train_data.columns"
      ],
      "id": "602fb1af"
    },
    {
      "cell_type": "code",
      "source": [
        "# select only numerical columns\n",
        "na_counts = train_data[['property_id','host_id', 'property_lat', 'property_beds',\\\n",
        "       'booking_availability_30', 'booking_availability_60',\\\n",
        "       'booking_availability_90','reviews_per_month','host_nr_listings',\\\n",
        "       'property_lon', 'property_max_guests',\\\n",
        "       'property_bathrooms', 'property_bedrooms',\\\n",
        "       'property_sqfeet', 'host_response_rate', 'property_beds',\\\n",
        "       'host_nr_listings_total', 'booking_price_covers', 'booking_min_nights',\\\n",
        "       'booking_max_nights',\\\n",
        "       'booking_availability_365', 'reviews_num', 'reviews_rating',\\\n",
        "       'reviews_acc', 'reviews_cleanliness', 'reviews_checkin',\\\n",
        "       'reviews_communication', 'reviews_location', 'reviews_value',\\\n",
        "       'property_rules','target']].isna().mean()\n",
        "na_counts\n",
        "plt.bar(na_counts.index, na_counts)\n",
        "plt.xticks(rotation=90)\n",
        "plt.ylabel('Percentage of missing values')\n",
        "\n",
        "plt.show()\n"
      ],
      "metadata": {
        "colab": {
          "base_uri": "https://localhost:8080/",
          "height": 588
        },
        "id": "_3xIl5oayG47",
        "outputId": "926941a7-cd17-486e-d0fd-eacb1e0ec6a4"
      },
      "id": "_3xIl5oayG47",
      "execution_count": null,
      "outputs": [
        {
          "output_type": "display_data",
          "data": {
            "text/plain": [
              "<Figure size 640x480 with 1 Axes>"
            ],
            "image/png": "[encoded data removed]"
          },
          "metadata": {}
        }
      ]
    },
    {
      "cell_type": "markdown",
      "source": [
        "Only predictive features should be kept for the final modelling. Several columns are removed, such as property_id and host\\_id, which are unlikely to provide relevant information.\n",
        "Not all features are filled in every field. It can be seen that property sqfeet has 97.5% missing values and it would be preferable to eliminate them."
      ],
      "metadata": {
        "id": "1dvnCUv8sgWG"
      },
      "id": "1dvnCUv8sgWG"
    },
    {
      "cell_type": "code",
      "execution_count": null,
      "metadata": {
        "id": "UHGS0NrWNS89"
      },
      "outputs": [],
      "source": [
        "train_data = train_data[['property_lat',\\\n",
        "       'booking_availability_30', 'booking_availability_60',\\\n",
        "       'booking_availability_90','reviews_per_month','host_nr_listings',\\\n",
        "       'property_lon', 'property_max_guests',\\\n",
        "       'property_bathrooms', 'property_bedrooms',\\\n",
        "       'host_response_rate',\\\n",
        "       'host_nr_listings_total', 'booking_price_covers', 'booking_min_nights',\\\n",
        "       'booking_max_nights',\\\n",
        "       'booking_availability_365', 'reviews_num', 'reviews_rating',\\\n",
        "       'reviews_acc', 'reviews_cleanliness', 'reviews_checkin',\\\n",
        "       'reviews_communication', 'reviews_location', 'reviews_value',\\\n",
        "       'target']]"
      ],
      "id": "UHGS0NrWNS89"
    },
    {
      "cell_type": "markdown",
      "source": [
        "Only predictive features should be kept for the final modelling. Several columns are removed, such as \\textit{'property\\_id'} and \\textit{'host\\_id'}, which are unlikely to provide relevant information.\\par\n",
        "Not all features are filled in every field. It can be seen that property sqfeet has 97.5\\% missing values and it would be preferable to eliminate them.\\par"
      ],
      "metadata": {
        "id": "CpRkRHexrRgI"
      },
      "id": "CpRkRHexrRgI"
    },
    {
      "cell_type": "code",
      "execution_count": null,
      "metadata": {
        "colab": {
          "base_uri": "https://localhost:8080/",
          "height": 682
        },
        "id": "DKejI5qVSLjz",
        "outputId": "deb30f92-6d1c-4a89-f37e-6ebad8913ede"
      },
      "outputs": [
        {
          "output_type": "stream",
          "name": "stderr",
          "text": [
            "<ipython-input-30-7f2fb89e09f9>:4: DeprecationWarning: `np.bool` is a deprecated alias for the builtin `bool`. To silence this warning, use `bool` by itself. Doing this will not modify any behavior and is safe. If you specifically wanted the numpy scalar type, use `np.bool_` here.\n",
            "Deprecated in NumPy 1.20; for more details and guidance: https://numpy.org/devdocs/release/1.20.0-notes.html#deprecations\n",
            "  mask = np.zeros_like(corr_matrix, dtype=np.bool)\n"
          ]
        },
        {
          "output_type": "display_data",
          "data": {
            "text/plain": [
              "<Figure size 640x480 with 2 Axes>"
            ],
            "image/png": "[encoded data removed]"
          },
          "metadata": {}
        }
      ],
      "source": [
        "# Calculate correlation matrix\n",
        "corr_matrix = train_data.corr().abs()\n",
        "# Generate mask for upper triangle\n",
        "mask = np.zeros_like(corr_matrix, dtype=np.bool)\n",
        "mask[np.triu_indices_from(mask)] = True\n",
        "# Create heatmap\n",
        "sns.set_style('white')\n",
        "sns.heatmap(corr_matrix, mask=mask, cmap='coolwarm', center=0,\n",
        "square=True, linewidths=.5, annot=False, xticklabels = True, yticklabels = True)\n",
        "plt.title('Correlation matrix heatmap')\n",
        "plt.show()"
      ],
      "id": "DKejI5qVSLjz"
    },
    {
      "cell_type": "code",
      "execution_count": null,
      "metadata": {
        "colab": {
          "base_uri": "https://localhost:8080/"
        },
        "id": "tpTgbQA_8VSn",
        "outputId": "6ef9adcc-367c-4240-8b44-1753f76fad63"
      },
      "outputs": [
        {
          "output_type": "execute_result",
          "data": {
            "text/plain": [
              "Index(['property_lat', 'booking_availability_30', 'booking_availability_60',\n",
              "       'booking_availability_90', 'reviews_per_month', 'host_nr_listings',\n",
              "       'property_lon', 'property_max_guests', 'property_bathrooms',\n",
              "       'property_bedrooms', 'host_response_rate', 'host_nr_listings_total',\n",
              "       'booking_price_covers', 'booking_min_nights', 'booking_max_nights',\n",
              "       'booking_availability_365', 'reviews_num', 'reviews_rating',\n",
              "       'reviews_acc', 'reviews_cleanliness', 'reviews_checkin',\n",
              "       'reviews_communication', 'reviews_location', 'reviews_value', 'target'],\n",
              "      dtype='object')"
            ]
          },
          "metadata": {},
          "execution_count": 32
        }
      ],
      "source": [
        "train_data.columns"
      ],
      "id": "tpTgbQA_8VSn"
    },
    {
      "cell_type": "code",
      "source": [
        "df = train_data[['property_lon', 'property_max_guests',\\\n",
        "       'property_bathrooms', 'property_bedrooms',\\\n",
        "       'host_response_rate',\\\n",
        "       'host_nr_listings_total', 'booking_price_covers', 'booking_min_nights',\\\n",
        "       'booking_availability_365', 'reviews_num', 'reviews_rating',\\\n",
        "       'reviews_acc', 'reviews_cleanliness', 'reviews_checkin',\\\n",
        "       'reviews_communication', 'reviews_location', 'reviews_value'\\\n",
        "       ,'target']]"
      ],
      "metadata": {
        "id": "8nwgZGf7v2zW"
      },
      "id": "8nwgZGf7v2zW",
      "execution_count": null,
      "outputs": []
    },
    {
      "cell_type": "markdown",
      "metadata": {
        "id": "j38aHh7EDb7L"
      },
      "source": [
        "Split the data before preprocessing:"
      ],
      "id": "j38aHh7EDb7L"
    },
    {
      "cell_type": "code",
      "execution_count": null,
      "metadata": {
        "id": "z-atjKsqFfzg"
      },
      "outputs": [],
      "source": [
        "X = train_data\n",
        "y = train_data['target']\n",
        "X_train, X_test, y_train, y_test = train_test_split(X, y, test_size=0.3, random_state=2023)"
      ],
      "id": "z-atjKsqFfzg"
    },
    {
      "cell_type": "markdown",
      "metadata": {
        "id": "v6EIzNPlDR9I"
      },
      "source": [
        "The preprocessing function:"
      ],
      "id": "v6EIzNPlDR9I"
    },
    {
      "cell_type": "code",
      "execution_count": null,
      "metadata": {
        "id": "gIniuDv0DQ-n"
      },
      "outputs": [],
      "source": [
        "def prep_num(df):\n",
        "  df = df.copy(deep=1)\n",
        "  df = df.loc[:,['property_lon', 'property_max_guests',\\\n",
        "       'property_bathrooms', \\\n",
        "       'host_response_rate',\\\n",
        "       'host_nr_listings_total','booking_min_nights',\\\n",
        "       'booking_availability_365', 'reviews_num', 'reviews_rating',\\\n",
        "       'reviews_location']]\n",
        "  \n",
        "  for col in df.columns:\n",
        "    df[col].fillna(df[col].median(), inplace=True)\n",
        "  \n",
        "  return df"
      ],
      "id": "gIniuDv0DQ-n"
    },
    {
      "cell_type": "code",
      "execution_count": null,
      "metadata": {
        "id": "WJxaF3nTDUpq"
      },
      "outputs": [],
      "source": [
        "X_train = prep_num(X_train)\n",
        "X_test = prep_num(X_test)"
      ],
      "id": "WJxaF3nTDUpq"
    },
    {
      "cell_type": "markdown",
      "metadata": {
        "id": "e7061884"
      },
      "source": [
        "#### Linear/Polynomial Regression Models:\n",
        "    - LinearRegression from scikitlearn"
      ],
      "id": "e7061884"
    },
    {
      "cell_type": "markdown",
      "metadata": {
        "id": "kot-y3PC-HSM"
      },
      "source": [
        "Now we will take care of all the missing values in the numeric columns\n",
        "   \n",
        "\n",
        "*   It looks like property_sqfeet has 6333 missing values, hence instead of imputing we just remove that columns\n",
        "\n",
        "\n",
        "\n",
        " "
      ],
      "id": "kot-y3PC-HSM"
    },
    {
      "cell_type": "markdown",
      "metadata": {
        "id": "hONfZOFUFPqs"
      },
      "source": [
        "##### So now we have the cleaned data with median of the training column imputed to all missing values.\n",
        "##### We pass this to the linear regression model"
      ],
      "id": "hONfZOFUFPqs"
    },
    {
      "cell_type": "code",
      "execution_count": null,
      "metadata": {
        "id": "CMZvD8d-NDad"
      },
      "outputs": [],
      "source": [
        "### Might be susceptible to data leakage as we are making the split after imputation\n",
        "# We have to create this split first, then perform the pre-processing"
      ],
      "id": "CMZvD8d-NDad"
    },
    {
      "cell_type": "code",
      "execution_count": null,
      "metadata": {
        "id": "APQIhWsuFuDt"
      },
      "outputs": [],
      "source": [
        "model = lr()"
      ],
      "id": "APQIhWsuFuDt"
    },
    {
      "cell_type": "code",
      "execution_count": null,
      "metadata": {
        "colab": {
          "base_uri": "https://localhost:8080/",
          "height": 74
        },
        "id": "XbZPP33NGBkp",
        "outputId": "2ee53153-3b06-4bbb-ca37-ab3fc1bbfdea"
      },
      "outputs": [
        {
          "output_type": "execute_result",
          "data": {
            "text/plain": [
              "LinearRegression()"
            ],
            "text/html": [
              "<style>#sk-container-id-2 {color: black;background-color: white;}#sk-container-id-2 pre{padding: 0;}#sk-container-id-2 div.sk-toggleable {background-color: white;}#sk-container-id-2 label.sk-toggleable__label {cursor: pointer;display: block;width: 100%;margin-bottom: 0;padding: 0.3em;box-sizing: border-box;text-align: center;}#sk-container-id-2 label.sk-toggleable__label-arrow:before {content: \"▸\";float: left;margin-right: 0.25em;color: #696969;}#sk-container-id-2 label.sk-toggleable__label-arrow:hover:before {color: black;}#sk-container-id-2 div.sk-estimator:hover label.sk-toggleable__label-arrow:before {color: black;}#sk-container-id-2 div.sk-toggleable__content {max-height: 0;max-width: 0;overflow: hidden;text-align: left;background-color: #f0f8ff;}#sk-container-id-2 div.sk-toggleable__content pre {margin: 0.2em;color: black;border-radius: 0.25em;background-color: #f0f8ff;}#sk-container-id-2 input.sk-toggleable__control:checked~div.sk-toggleable__content {max-height: 200px;max-width: 100%;overflow: auto;}#sk-container-id-2 input.sk-toggleable__control:checked~label.sk-toggleable__label-arrow:before {content: \"▾\";}#sk-container-id-2 div.sk-estimator input.sk-toggleable__control:checked~label.sk-toggleable__label {background-color: #d4ebff;}#sk-container-id-2 div.sk-label input.sk-toggleable__control:checked~label.sk-toggleable__label {background-color: #d4ebff;}#sk-container-id-2 input.sk-hidden--visually {border: 0;clip: rect(1px 1px 1px 1px);clip: rect(1px, 1px, 1px, 1px);height: 1px;margin: -1px;overflow: hidden;padding: 0;position: absolute;width: 1px;}#sk-container-id-2 div.sk-estimator {font-family: monospace;background-color: #f0f8ff;border: 1px dotted black;border-radius: 0.25em;box-sizing: border-box;margin-bottom: 0.5em;}#sk-container-id-2 div.sk-estimator:hover {background-color: #d4ebff;}#sk-container-id-2 div.sk-parallel-item::after {content: \"\";width: 100%;border-bottom: 1px solid gray;flex-grow: 1;}#sk-container-id-2 div.sk-label:hover label.sk-toggleable__label {background-color: #d4ebff;}#sk-container-id-2 div.sk-serial::before {content: \"\";position: absolute;border-left: 1px solid gray;box-sizing: border-box;top: 0;bottom: 0;left: 50%;z-index: 0;}#sk-container-id-2 div.sk-serial {display: flex;flex-direction: column;align-items: center;background-color: white;padding-right: 0.2em;padding-left: 0.2em;position: relative;}#sk-container-id-2 div.sk-item {position: relative;z-index: 1;}#sk-container-id-2 div.sk-parallel {display: flex;align-items: stretch;justify-content: center;background-color: white;position: relative;}#sk-container-id-2 div.sk-item::before, #sk-container-id-2 div.sk-parallel-item::before {content: \"\";position: absolute;border-left: 1px solid gray;box-sizing: border-box;top: 0;bottom: 0;left: 50%;z-index: -1;}#sk-container-id-2 div.sk-parallel-item {display: flex;flex-direction: column;z-index: 1;position: relative;background-color: white;}#sk-container-id-2 div.sk-parallel-item:first-child::after {align-self: flex-end;width: 50%;}#sk-container-id-2 div.sk-parallel-item:last-child::after {align-self: flex-start;width: 50%;}#sk-container-id-2 div.sk-parallel-item:only-child::after {width: 0;}#sk-container-id-2 div.sk-dashed-wrapped {border: 1px dashed gray;margin: 0 0.4em 0.5em 0.4em;box-sizing: border-box;padding-bottom: 0.4em;background-color: white;}#sk-container-id-2 div.sk-label label {font-family: monospace;font-weight: bold;display: inline-block;line-height: 1.2em;}#sk-container-id-2 div.sk-label-container {text-align: center;}#sk-container-id-2 div.sk-container {/* jupyter's `normalize.less` sets `[hidden] { display: none; }` but bootstrap.min.css set `[hidden] { display: none !important; }` so we also need the `!important` here to be able to override the default hidden behavior on the sphinx rendered scikit-learn.org. See: https://github.com/scikit-learn/scikit-learn/issues/21755 */display: inline-block !important;position: relative;}#sk-container-id-2 div.sk-text-repr-fallback {display: none;}</style><div id=\"sk-container-id-2\" class=\"sk-top-container\"><div class=\"sk-text-repr-fallback\"><pre>LinearRegression()</pre><b>In a Jupyter environment, please rerun this cell to show the HTML representation or trust the notebook. <br />On GitHub, the HTML representation is unable to render, please try loading this page with nbviewer.org.</b></div><div class=\"sk-container\" hidden><div class=\"sk-item\"><div class=\"sk-estimator sk-toggleable\"><input class=\"sk-toggleable__control sk-hidden--visually\" id=\"sk-estimator-id-2\" type=\"checkbox\" checked><label for=\"sk-estimator-id-2\" class=\"sk-toggleable__label sk-toggleable__label-arrow\">LinearRegression</label><div class=\"sk-toggleable__content\"><pre>LinearRegression()</pre></div></div></div></div></div>"
            ]
          },
          "metadata": {},
          "execution_count": 77
        }
      ],
      "source": [
        "model.fit(X_train,y_train)"
      ],
      "id": "XbZPP33NGBkp"
    },
    {
      "cell_type": "code",
      "execution_count": null,
      "metadata": {
        "colab": {
          "base_uri": "https://localhost:8080/"
        },
        "id": "MtIr5UQeJZhE",
        "outputId": "29d4035d-3afb-4524-ddad-371b57a393c3"
      },
      "outputs": [
        {
          "output_type": "execute_result",
          "data": {
            "text/plain": [
              "array([68.9854844 , 68.78475973, 68.13776168, ..., 67.51020724,\n",
              "       67.31268075, 69.17277947])"
            ]
          },
          "metadata": {},
          "execution_count": 79
        }
      ],
      "source": [
        "model.predict(X_test)"
      ],
      "id": "MtIr5UQeJZhE"
    },
    {
      "cell_type": "code",
      "execution_count": null,
      "metadata": {
        "colab": {
          "base_uri": "https://localhost:8080/"
        },
        "id": "yBQ5uhMUJgd_",
        "outputId": "c81f29a3-f4da-4c3d-8070-78b24a1bff09"
      },
      "outputs": [
        {
          "output_type": "stream",
          "name": "stdout",
          "text": [
            "Root mean squared error of LR model for numeric columns on the validation set is:  45.93806060143809\n"
          ]
        }
      ],
      "source": [
        "print('Root mean squared error of LR model for numeric columns on the validation set is: ', mse(model.predict(X_test),y_test, squared = 0))"
      ],
      "id": "yBQ5uhMUJgd_"
    },
    {
      "cell_type": "code",
      "execution_count": null,
      "metadata": {
        "colab": {
          "base_uri": "https://localhost:8080/",
          "height": 73
        },
        "id": "NYmwmVQpJs1T",
        "outputId": "48ceaa3c-d5f1-4bc9-d9b7-032b8a629cfb"
      },
      "outputs": [
        {
          "output_type": "display_data",
          "data": {
            "text/plain": [
              "<IPython.core.display.HTML object>"
            ],
            "text/html": [
              "\n",
              "     <input type=\"file\" id=\"files-2831d24b-e6b4-49ea-baff-fffa5d01a3a0\" name=\"files[]\" multiple disabled\n",
              "        style=\"border:none\" />\n",
              "     <output id=\"result-2831d24b-e6b4-49ea-baff-fffa5d01a3a0\">\n",
              "      Upload widget is only available when the cell has been executed in the\n",
              "      current browser session. Please rerun this cell to enable.\n",
              "      </output>\n",
              "      <script>// Copyright 2017 Google LLC\n",
              "//\n",
              "// Licensed under the Apache License, Version 2.0 (the \"License\");\n",
              "// you may not use this file except in compliance with the License.\n",
              "// You may obtain a copy of the License at\n",
              "//\n",
              "//      http://www.apache.org/licenses/LICENSE-2.0\n",
              "//\n",
              "// Unless required by applicable law or agreed to in writing, software\n",
              "// distributed under the License is distributed on an \"AS IS\" BASIS,\n",
              "// WITHOUT WARRANTIES OR CONDITIONS OF ANY KIND, either express or implied.\n",
              "// See the License for the specific language governing permissions and\n",
              "// limitations under the License.\n",
              "\n",
              "/**\n",
              " * @fileoverview Helpers for google.colab Python module.\n",
              " */\n",
              "(function(scope) {\n",
              "function span(text, styleAttributes = {}) {\n",
              "  const element = document.createElement('span');\n",
              "  element.textContent = text;\n",
              "  for (const key of Object.keys(styleAttributes)) {\n",
              "    element.style[key] = styleAttributes[key];\n",
              "  }\n",
              "  return element;\n",
              "}\n",
              "\n",
              "// Max number of bytes which will be uploaded at a time.\n",
              "const MAX_PAYLOAD_SIZE = 100 * 1024;\n",
              "\n",
              "function _uploadFiles(inputId, outputId) {\n",
              "  const steps = uploadFilesStep(inputId, outputId);\n",
              "  const outputElement = document.getElementById(outputId);\n",
              "  // Cache steps on the outputElement to make it available for the next call\n",
              "  // to uploadFilesContinue from Python.\n",
              "  outputElement.steps = steps;\n",
              "\n",
              "  return _uploadFilesContinue(outputId);\n",
              "}\n",
              "\n",
              "// This is roughly an async generator (not supported in the browser yet),\n",
              "// where there are multiple asynchronous steps and the Python side is going\n",
              "// to poll for completion of each step.\n",
              "// This uses a Promise to block the python side on completion of each step,\n",
              "// then passes the result of the previous step as the input to the next step.\n",
              "function _uploadFilesContinue(outputId) {\n",
              "  const outputElement = document.getElementById(outputId);\n",
              "  const steps = outputElement.steps;\n",
              "\n",
              "  const next = steps.next(outputElement.lastPromiseValue);\n",
              "  return Promise.resolve(next.value.promise).then((value) => {\n",
              "    // Cache the last promise value to make it available to the next\n",
              "    // step of the generator.\n",
              "    outputElement.lastPromiseValue = value;\n",
              "    return next.value.response;\n",
              "  });\n",
              "}\n",
              "\n",
              "/**\n",
              " * Generator function which is called between each async step of the upload\n",
              " * process.\n",
              " * @param {string} inputId Element ID of the input file picker element.\n",
              " * @param {string} outputId Element ID of the output display.\n",
              " * @return {!Iterable<!Object>} Iterable of next steps.\n",
              " */\n",
              "function* uploadFilesStep(inputId, outputId) {\n",
              "  const inputElement = document.getElementById(inputId);\n",
              "  inputElement.disabled = false;\n",
              "\n",
              "  const outputElement = document.getElementById(outputId);\n",
              "  outputElement.innerHTML = '';\n",
              "\n",
              "  const pickedPromise = new Promise((resolve) => {\n",
              "    inputElement.addEventListener('change', (e) => {\n",
              "      resolve(e.target.files);\n",
              "    });\n",
              "  });\n",
              "\n",
              "  const cancel = document.createElement('button');\n",
              "  inputElement.parentElement.appendChild(cancel);\n",
              "  cancel.textContent = 'Cancel upload';\n",
              "  const cancelPromise = new Promise((resolve) => {\n",
              "    cancel.onclick = () => {\n",
              "      resolve(null);\n",
              "    };\n",
              "  });\n",
              "\n",
              "  // Wait for the user to pick the files.\n",
              "  const files = yield {\n",
              "    promise: Promise.race([pickedPromise, cancelPromise]),\n",
              "    response: {\n",
              "      action: 'starting',\n",
              "    }\n",
              "  };\n",
              "\n",
              "  cancel.remove();\n",
              "\n",
              "  // Disable the input element since further picks are not allowed.\n",
              "  inputElement.disabled = true;\n",
              "\n",
              "  if (!files) {\n",
              "    return {\n",
              "      response: {\n",
              "        action: 'complete',\n",
              "      }\n",
              "    };\n",
              "  }\n",
              "\n",
              "  for (const file of files) {\n",
              "    const li = document.createElement('li');\n",
              "    li.append(span(file.name, {fontWeight: 'bold'}));\n",
              "    li.append(span(\n",
              "        `(${file.type || 'n/a'}) - ${file.size} bytes, ` +\n",
              "        `last modified: ${\n",
              "            file.lastModifiedDate ? file.lastModifiedDate.toLocaleDateString() :\n",
              "                                    'n/a'} - `));\n",
              "    const percent = span('0% done');\n",
              "    li.appendChild(percent);\n",
              "\n",
              "    outputElement.appendChild(li);\n",
              "\n",
              "    const fileDataPromise = new Promise((resolve) => {\n",
              "      const reader = new FileReader();\n",
              "      reader.onload = (e) => {\n",
              "        resolve(e.target.result);\n",
              "      };\n",
              "      reader.readAsArrayBuffer(file);\n",
              "    });\n",
              "    // Wait for the data to be ready.\n",
              "    let fileData = yield {\n",
              "      promise: fileDataPromise,\n",
              "      response: {\n",
              "        action: 'continue',\n",
              "      }\n",
              "    };\n",
              "\n",
              "    // Use a chunked sending to avoid message size limits. See b/62115660.\n",
              "    let position = 0;\n",
              "    do {\n",
              "      const length = Math.min(fileData.byteLength - position, MAX_PAYLOAD_SIZE);\n",
              "      const chunk = new Uint8Array(fileData, position, length);\n",
              "      position += length;\n",
              "\n",
              "      const base64 = btoa(String.fromCharCode.apply(null, chunk));\n",
              "      yield {\n",
              "        response: {\n",
              "          action: 'append',\n",
              "          file: file.name,\n",
              "          data: base64,\n",
              "        },\n",
              "      };\n",
              "\n",
              "      let percentDone = fileData.byteLength === 0 ?\n",
              "          100 :\n",
              "          Math.round((position / fileData.byteLength) * 100);\n",
              "      percent.textContent = `${percentDone}% done`;\n",
              "\n",
              "    } while (position < fileData.byteLength);\n",
              "  }\n",
              "\n",
              "  // All done.\n",
              "  yield {\n",
              "    response: {\n",
              "      action: 'complete',\n",
              "    }\n",
              "  };\n",
              "}\n",
              "\n",
              "scope.google = scope.google || {};\n",
              "scope.google.colab = scope.google.colab || {};\n",
              "scope.google.colab._files = {\n",
              "  _uploadFiles,\n",
              "  _uploadFilesContinue,\n",
              "};\n",
              "})(self);\n",
              "</script> "
            ]
          },
          "metadata": {}
        },
        {
          "output_type": "stream",
          "name": "stdout",
          "text": [
            "Saving test.csv to test.csv\n"
          ]
        }
      ],
      "source": [
        "#read in data\n",
        "uploaded = files.upload()"
      ],
      "id": "NYmwmVQpJs1T"
    },
    {
      "cell_type": "code",
      "execution_count": null,
      "metadata": {
        "id": "_S3f2fJuW0q1"
      },
      "outputs": [],
      "source": [
        "final_test_data = pd.read_csv('test.csv')"
      ],
      "id": "_S3f2fJuW0q1"
    },
    {
      "cell_type": "code",
      "execution_count": null,
      "metadata": {
        "colab": {
          "base_uri": "https://localhost:8080/"
        },
        "id": "0pI5SoUHIa63",
        "outputId": "52e5cb3d-0daf-456a-c9eb-af22d7470eef"
      },
      "outputs": [
        {
          "output_type": "stream",
          "name": "stdout",
          "text": [
            "<class 'pandas.core.frame.DataFrame'>\n",
            "RangeIndex: 919 entries, 0 to 918\n",
            "Data columns (total 54 columns):\n",
            " #   Column                    Non-Null Count  Dtype  \n",
            "---  ------                    --------------  -----  \n",
            " 0   property_id               919 non-null    int64  \n",
            " 1   property_name             916 non-null    object \n",
            " 2   property_summary          906 non-null    object \n",
            " 3   property_space            567 non-null    object \n",
            " 4   property_desc             918 non-null    object \n",
            " 5   property_neighborhood     455 non-null    object \n",
            " 6   property_notes            321 non-null    object \n",
            " 7   property_transit          492 non-null    object \n",
            " 8   property_access           446 non-null    object \n",
            " 9   property_interaction      399 non-null    object \n",
            " 10  property_rules            439 non-null    object \n",
            " 11  property_zipcode          905 non-null    float64\n",
            " 12  property_lat              919 non-null    float64\n",
            " 13  property_lon              919 non-null    float64\n",
            " 14  property_type             919 non-null    object \n",
            " 15  property_room_type        919 non-null    object \n",
            " 16  property_max_guests       919 non-null    int64  \n",
            " 17  property_bathrooms        918 non-null    float64\n",
            " 18  property_bedrooms         919 non-null    int64  \n",
            " 19  property_beds             916 non-null    float64\n",
            " 20  property_bed_type         919 non-null    object \n",
            " 21  property_amenities        910 non-null    object \n",
            " 22  property_sqfeet           30 non-null     float64\n",
            " 23  property_scraped_at       919 non-null    object \n",
            " 24  property_last_updated     919 non-null    object \n",
            " 25  host_id                   919 non-null    int64  \n",
            " 26  host_since                919 non-null    object \n",
            " 27  host_location             912 non-null    object \n",
            " 28  host_about                508 non-null    object \n",
            " 29  host_response_time        723 non-null    object \n",
            " 30  host_response_rate        723 non-null    float64\n",
            " 31  host_nr_listings          919 non-null    int64  \n",
            " 32  host_nr_listings_total    919 non-null    int64  \n",
            " 33  host_verified             919 non-null    object \n",
            " 34  booking_price_covers      919 non-null    int64  \n",
            " 35  booking_min_nights        919 non-null    int64  \n",
            " 36  booking_max_nights        919 non-null    int64  \n",
            " 37  booking_availability_30   919 non-null    int64  \n",
            " 38  booking_availability_60   919 non-null    int64  \n",
            " 39  booking_availability_90   919 non-null    int64  \n",
            " 40  booking_availability_365  919 non-null    int64  \n",
            " 41  booking_cancel_policy     919 non-null    object \n",
            " 42  reviews_num               919 non-null    int64  \n",
            " 43  reviews_first             720 non-null    object \n",
            " 44  reviews_last              720 non-null    object \n",
            " 45  reviews_rating            712 non-null    float64\n",
            " 46  reviews_acc               711 non-null    float64\n",
            " 47  reviews_cleanliness       711 non-null    float64\n",
            " 48  reviews_checkin           711 non-null    float64\n",
            " 49  reviews_communication     711 non-null    float64\n",
            " 50  reviews_location          711 non-null    float64\n",
            " 51  reviews_value             711 non-null    float64\n",
            " 52  reviews_per_month         720 non-null    float64\n",
            " 53  extra                     919 non-null    object \n",
            "dtypes: float64(15), int64(14), object(25)\n",
            "memory usage: 387.8+ KB\n"
          ]
        }
      ],
      "source": [
        "final_test_data.info()"
      ],
      "id": "0pI5SoUHIa63"
    },
    {
      "cell_type": "code",
      "execution_count": null,
      "metadata": {
        "id": "EmvlRtYNIh85"
      },
      "outputs": [],
      "source": [
        "nf_test_data = final_test_data.copy(deep=1)\n",
        "nf_test_data = prep_num(nf_test_data)"
      ],
      "id": "EmvlRtYNIh85"
    },
    {
      "cell_type": "code",
      "execution_count": null,
      "metadata": {
        "colab": {
          "base_uri": "https://localhost:8080/"
        },
        "id": "aAwXUy_lInlm",
        "outputId": "8af39afb-eab0-49bb-81ca-09112e60bce4"
      },
      "outputs": [
        {
          "output_type": "stream",
          "name": "stdout",
          "text": [
            "<class 'pandas.core.frame.DataFrame'>\n",
            "RangeIndex: 919 entries, 0 to 918\n",
            "Data columns (total 10 columns):\n",
            " #   Column                    Non-Null Count  Dtype  \n",
            "---  ------                    --------------  -----  \n",
            " 0   property_lon              919 non-null    float64\n",
            " 1   property_max_guests       919 non-null    int64  \n",
            " 2   property_bathrooms        919 non-null    float64\n",
            " 3   host_response_rate        919 non-null    float64\n",
            " 4   host_nr_listings_total    919 non-null    int64  \n",
            " 5   booking_min_nights        919 non-null    int64  \n",
            " 6   booking_availability_365  919 non-null    int64  \n",
            " 7   reviews_num               919 non-null    int64  \n",
            " 8   reviews_rating            919 non-null    float64\n",
            " 9   reviews_location          919 non-null    float64\n",
            "dtypes: float64(5), int64(5)\n",
            "memory usage: 71.9 KB\n"
          ]
        }
      ],
      "source": [
        "nf_test_data.info()"
      ],
      "id": "aAwXUy_lInlm"
    },
    {
      "cell_type": "code",
      "execution_count": null,
      "metadata": {
        "id": "FJB66iAzIqC_"
      },
      "outputs": [],
      "source": [
        "test_preds = model.predict(nf_test_data)"
      ],
      "id": "FJB66iAzIqC_"
    },
    {
      "cell_type": "code",
      "execution_count": null,
      "metadata": {
        "colab": {
          "base_uri": "https://localhost:8080/"
        },
        "id": "OmXo5_aII8WX",
        "outputId": "7b2ae289-d614-4d20-d549-5a7719d51c1b"
      },
      "outputs": [
        {
          "output_type": "execute_result",
          "data": {
            "text/plain": [
              "array([ 78.54,  71.39,  76.83,  63.33, 103.8 , 103.65, 125.6 ,  83.22,\n",
              "        86.18,  57.07,  59.22,  50.53,  69.14,  80.74,  69.22,  35.03,\n",
              "        66.17,  65.44,  64.34,  58.03, 108.33,  65.87,  67.72,  71.2 ,\n",
              "        79.45,  55.88,  74.32,  81.89,  60.08,  78.4 ,  60.17,  57.09,\n",
              "        52.92,  78.55,  68.67,  75.12,  68.63,  63.11,  77.27,  59.2 ,\n",
              "        80.6 ,  58.63,  68.08,  83.15,  89.79,  64.12,  46.74,  68.32,\n",
              "        61.43,  84.98,  59.68,  75.82,  55.23,  74.97,  52.59,  40.92,\n",
              "        65.25,  76.07,  57.55,  66.46,  63.3 ,  43.11,  48.06,  62.07,\n",
              "        75.54,  59.84,  84.36,  96.29,  71.16,  66.69,  54.89,  71.11,\n",
              "        80.05,  67.45,  66.05,  67.49,  54.7 ,  61.52,  68.31,  69.16,\n",
              "        84.61,  64.48,  64.83,  63.62,  60.06,  67.59,  81.28,  76.36,\n",
              "        74.28,  69.56,  86.28,  67.7 ,  61.57,  89.84,  56.7 ,  73.8 ,\n",
              "        69.11,  78.18,  71.19,  67.39,  55.23,  59.24,  54.82,  62.08,\n",
              "        79.21, 105.05,  72.17,  85.11,  61.17,  71.69,  78.23,  76.97,\n",
              "        66.9 ,  66.64,  61.74,  65.48,  77.18,  96.37,  99.59,  72.7 ,\n",
              "        76.98,  55.46,  71.5 ,  75.54,  86.97,  86.92,  77.41,  90.27,\n",
              "        42.72,  90.78,  56.31,  67.1 ,  66.2 ,  81.54,  62.87,  63.  ,\n",
              "        77.49,  59.57,  61.87,  82.89,  63.91,  95.08,  77.42,  61.01,\n",
              "       146.43,  59.33,  89.23,  65.86,  80.59,  64.98,  63.24,  83.36,\n",
              "        75.71,  76.54,  66.89,  71.33,  51.04,  75.28,  76.09,  66.46,\n",
              "        52.49,  64.99,  50.71,  65.81,  68.47,  67.68,  55.12,  76.53,\n",
              "        59.03,  68.03,  69.26, 202.76,  95.49,  89.15,  43.3 ,  78.81,\n",
              "        74.54,  70.25,  71.18,  56.6 ,  74.12,  62.18,  72.43,  68.24,\n",
              "        54.36, 122.31,  61.04,  56.35,  67.29,  63.74,  74.34,  83.06,\n",
              "        75.1 ,  60.98,  76.2 ,  82.86,  63.86,  83.47,  61.81,  46.42,\n",
              "       103.86,  75.99,  53.32,  55.55,  55.23,  68.39,  63.03,  85.65,\n",
              "        54.83,  80.66,  76.56, 143.73,  61.74,  42.85,  89.85, 107.36,\n",
              "        70.98,  83.21,  64.75,  53.38,  66.61,  67.21,  58.52,  59.86,\n",
              "        59.33,  56.6 ,  73.83,  70.5 ,  71.5 ,  56.1 ,  78.72,  60.2 ,\n",
              "        62.42,  69.77,  69.96,  96.43,  75.12,  70.73,  67.51,  69.78,\n",
              "        63.2 ,  79.13,  65.03,  68.65,  72.68,  71.28,  72.52,  67.92,\n",
              "        74.68,  64.93,  71.85,  87.48,  53.39,  49.95,  74.75,  65.11,\n",
              "        77.41,  72.97,  61.19,  55.3 ,  68.46, 100.69,  80.64,  61.81,\n",
              "        66.16,  69.89,  46.27, 161.24,  95.6 ,  62.83,  62.93,  72.04,\n",
              "        58.91,  70.49, 159.18,  57.15,  75.42,  66.9 ,  64.17,  64.36,\n",
              "        52.22,  82.66,  72.91,  60.68,  55.57,  70.65,  43.85, 112.55,\n",
              "        79.05,  69.08,  77.56,  80.98,  49.33,  65.98,  67.  ,  89.25,\n",
              "        69.77,  56.42,  63.1 ,  67.84,  77.29,  60.99,  67.59,  60.16,\n",
              "        56.76,  61.58,  51.51,  69.24,  54.3 ,  55.04,  82.21,  77.42,\n",
              "        81.22,  63.64,  55.5 ,  64.76,  56.67,  88.33,  66.59,  69.73,\n",
              "        63.83,  51.03,  64.6 ,  72.1 ,  67.89,  78.56, 372.32,  52.1 ,\n",
              "        86.84,  65.23,  64.75,  66.06,  56.89,  67.67,  72.46,  91.35,\n",
              "        62.44,  60.97,  59.7 ,  79.32,  57.6 ,  99.37, 110.15,  73.91,\n",
              "        74.88,  62.5 ,  81.39,  65.59,  70.85,  59.1 ,  65.05,  55.51,\n",
              "        62.75,  66.6 ,  62.6 ,  71.1 ,  66.52,  51.53,  59.07,  57.19,\n",
              "        53.87,  53.93,  67.87,  76.17,  92.48,  90.12,  64.94,  81.51,\n",
              "        88.89,  63.71,  71.1 ,  69.47,  61.51,  70.29,  63.16,  54.8 ,\n",
              "        61.27, 114.93,  67.36,  71.52,  81.58,  57.96,  58.37,  62.69,\n",
              "        63.37,  58.67,  85.15,  88.52,  65.8 ,  57.27,  52.63,  48.47,\n",
              "        75.83,  74.53,  72.72,  68.09,  83.94,  65.28,  86.91,  69.16,\n",
              "        79.05,  87.52,  75.22,  71.38,  85.25,  66.02,  80.92,  78.36,\n",
              "        69.13,  72.66,  72.67,  69.8 ,  69.62,  60.95,  77.17,  75.42,\n",
              "        68.08,  78.62,  64.02,  59.4 ,  68.48,  68.66,  70.48,  81.34,\n",
              "        76.83,  71.16,  69.79,  72.23,  69.79,  71.32,  92.48,  66.33,\n",
              "        79.6 ,  65.18,  88.05,  81.3 ,  78.24,  71.98,  73.82,  72.92,\n",
              "        78.46,  76.5 ,  75.2 ,  70.  ,  57.5 , 112.1 ,  93.96,  65.47,\n",
              "        65.22,  67.83,  78.45,  79.09, 111.2 ,  53.31,  64.45,  48.12,\n",
              "       112.61,  84.39,  66.9 ,  89.46,  64.96,  94.45,  68.01,  86.58,\n",
              "        76.78,  64.44,  56.3 ,  71.59,  59.84,  63.99,  71.89,  79.72,\n",
              "        88.25,  81.75,  93.47,  72.71,  91.35,  89.73,  67.05,  78.38,\n",
              "        74.4 ,  79.53,  74.24,  95.58,  92.74,  51.73,  61.49,  64.27,\n",
              "        69.44,  85.03,  69.12,  55.72,  50.82,  51.06,  57.05,  41.43,\n",
              "        63.84,  48.21,  66.62,  58.13,  71.46,  59.82,  71.81,  59.26,\n",
              "        56.15,  55.  ,  63.54,  73.89,  84.44,  67.94,  85.57,  90.23,\n",
              "        75.5 ,  71.07,  60.36,  68.09,  77.31,  68.2 ,  83.6 ,  61.99,\n",
              "        67.64,  82.98,  74.22,  91.28,  90.59,  70.79,  72.49,  54.98,\n",
              "        72.15,  69.27, 145.95,  53.51,  56.23,  55.71,  62.12,  70.65,\n",
              "        57.56,  76.42,  60.08,  71.5 ,  66.16,  68.66,  66.61,  66.43,\n",
              "        79.73,  67.98,  58.25,  52.79,  60.42,  62.11,  59.84,  59.28,\n",
              "        57.3 ,  82.12,  84.35,  65.44,  59.27,  60.75,  69.85,  50.33,\n",
              "        73.29,  81.74, 102.12,  80.98,  88.68,  63.84,  88.48,  70.49,\n",
              "        79.54,  59.81,  57.48,  91.44,  53.03,  77.14,  49.71,  80.  ,\n",
              "        65.7 ,  70.88,  59.11,  83.88,  77.4 ,  70.41,  53.16,  53.82,\n",
              "        75.06,  94.67,  54.11,  81.01,  84.41,  72.84,  59.29,  67.19,\n",
              "        54.98,  59.64,  62.04,  49.15,  85.06,  73.95,  64.36,  64.79,\n",
              "        63.74,  90.73,  53.43,  66.34,  60.36,  63.38, 104.55,  75.06,\n",
              "        70.72,  56.87,  59.81,  55.97,  57.06,  63.72,  62.91,  90.69,\n",
              "        95.6 ,  68.48,  65.03,  90.23,  81.  ,  85.25,  69.05,  58.69,\n",
              "        67.31,  58.01,  87.28,  64.89,  75.4 ,  63.65,  63.26,  58.49,\n",
              "        76.4 ,  69.48,  48.77,  67.74,  63.35,  73.59,  61.85,  72.27,\n",
              "        51.53,  71.42,  69.57,  72.99,  71.81,  62.46,  73.42,  53.62,\n",
              "        57.73,  73.5 ,  71.22,  62.65,  89.78,  48.58,  89.07,  73.36,\n",
              "        61.25,  81.31,  77.28, 114.66,  73.8 ,  87.74, 105.59, 106.33,\n",
              "        79.89,  76.41,  81.81,  63.49,  78.4 ,  79.65, 159.92,  76.47,\n",
              "        61.68,  76.36,  85.32,  88.2 ,  68.62,  68.54,  72.56,  55.88,\n",
              "        54.44,  57.56,  65.05,  86.2 ,  58.91,  62.76, 131.39,  65.38,\n",
              "        82.8 ,  65.38,  75.96,  72.42,  90.64,  67.97,  77.65, 105.01,\n",
              "        69.45,  61.07,  65.72,  58.1 ,  62.71,  67.75,  60.57,  71.81,\n",
              "        65.99,  77.39,  53.6 , 100.09,  67.71,  63.28,  50.28,  75.53,\n",
              "        74.26,  74.06,  62.07,  49.29,  59.87,  71.03,  60.69,  65.85,\n",
              "        71.88,  52.78, 122.26,  85.7 ,  75.76,  74.97,  62.93,  76.65,\n",
              "        69.48,  81.25,  57.29,  80.38,  70.49,  68.29,  81.52,  88.07,\n",
              "        90.72,  93.26,  87.52,  82.42,  83.68,  70.57,  72.76,  63.39,\n",
              "        86.75,  57.02,  72.57,  64.81,  73.4 ,  67.32,  64.73,  62.59,\n",
              "        68.77,  57.21,  55.36,  71.95,  59.13,  62.45,  70.49,  72.68,\n",
              "        72.84,  70.36,  72.07,  96.  ,  74.85,  67.  ,  68.77,  76.52,\n",
              "        80.86,  86.17,  74.32,  68.27,  70.61,  71.33,  75.56,  76.45,\n",
              "        62.66,  79.78,  73.91,  57.15, 127.67,  62.27,  74.8 ,  75.24,\n",
              "        75.62,  61.68,  53.69,  91.86,  79.11,  69.32,  66.14,  73.81,\n",
              "        73.83,  62.82,  74.13,  89.  ,  53.6 ,  61.56,  78.48,  77.28,\n",
              "        56.68,  53.59,  82.02, 108.22,  69.87,  74.24,  65.65,  69.69,\n",
              "        65.02,  77.28,  89.36,  92.13,  69.65,  71.51,  62.82,  64.37,\n",
              "        61.4 ,  58.86,  67.06,  62.52,  87.27, 106.28,  81.71,  94.21,\n",
              "        89.91,  81.93,  76.45,  57.95,  66.46,  89.48,  78.26,  66.1 ,\n",
              "        83.02,  61.46,  55.57,  52.32,  89.76,  56.3 ,  68.94,  70.51,\n",
              "        72.82,  68.62,  66.13,  59.35,  70.46,  61.37,  54.98,  68.67,\n",
              "        58.94,  79.41,  70.08,  58.45,  61.85,  68.5 ,  70.19,  63.03,\n",
              "        60.31,  85.7 ,  73.83,  50.02,  58.93,  62.73,  65.64,  70.44,\n",
              "        69.55,  63.56,  59.74,  51.3 ,  78.01,  68.78,  73.64,  70.14,\n",
              "        80.49,  70.35,  49.73,  58.36,  72.92,  81.6 ,  67.12,  68.1 ,\n",
              "        78.87,  63.47,  67.61,  64.57,  59.7 ,  64.52,  60.26,  51.14,\n",
              "        78.27,  65.23,  99.28,  62.12,  62.53,  63.59,  88.11,  76.28,\n",
              "        98.29,  57.3 ,  64.  ,  75.94,  63.81,  62.43,  76.5 ,  64.51,\n",
              "        67.54,  79.08,  79.61,  62.57,  63.14,  60.97,  51.58,  57.39,\n",
              "        69.36,  58.48,  75.58,  81.47, 108.62, 102.53,  72.51])"
            ]
          },
          "metadata": {},
          "execution_count": 93
        }
      ],
      "source": [
        "test_preds"
      ],
      "id": "OmXo5_aII8WX"
    },
    {
      "cell_type": "code",
      "execution_count": null,
      "metadata": {
        "colab": {
          "base_uri": "https://localhost:8080/"
        },
        "id": "7JfJGrbGI94h",
        "outputId": "0c9b3b96-35a4-4810-d27a-c080507845d7"
      },
      "outputs": [
        {
          "output_type": "execute_result",
          "data": {
            "text/plain": [
              "0      6501\n",
              "1      6502\n",
              "2      6503\n",
              "3      6504\n",
              "4      6505\n",
              "       ... \n",
              "914    7415\n",
              "915    7416\n",
              "916    7417\n",
              "917    7418\n",
              "918    7419\n",
              "Name: property_id, Length: 919, dtype: int64"
            ]
          },
          "metadata": {},
          "execution_count": 94
        }
      ],
      "source": [
        "final_test_data['property_id']"
      ],
      "id": "7JfJGrbGI94h"
    },
    {
      "cell_type": "code",
      "execution_count": null,
      "metadata": {
        "id": "hWN17Yv0JKGG"
      },
      "outputs": [],
      "source": [
        "pd.concat([final_test_data['property_id'],pd.DataFrame(test_preds)], axis=1).to_csv(\"Trial1.csv\", header=0, index =0)"
      ],
      "id": "hWN17Yv0JKGG"
    },
    {
      "cell_type": "code",
      "execution_count": null,
      "metadata": {
        "id": "0TkWMQO8KC7V"
      },
      "outputs": [],
      "source": [],
      "id": "0TkWMQO8KC7V"
    }
  ],
  "metadata": {
    "colab": {
      "provenance": []
    },
    "kernelspec": {
      "display_name": "Python 3 (ipykernel)",
      "language": "python",
      "name": "python3"
    },
    "language_info": {
      "codemirror_mode": {
        "name": "ipython",
        "version": 3
      },
      "file_extension": ".py",
      "mimetype": "text/x-python",
      "name": "python",
      "nbconvert_exporter": "python",
      "pygments_lexer": "ipython3",
      "version": "3.9.16"
    }
  },
  "nbformat": 4,
  "nbformat_minor": 5
}